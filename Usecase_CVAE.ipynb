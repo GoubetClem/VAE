{
 "cells": [
  {
   "cell_type": "markdown",
   "metadata": {},
   "source": [
    "<div class=\"alert alert-info\" role=\"alert\">\n",
    "  <hr> <center> <font size=\"+3.5\"> <b> Interpréter des conditions atypiques à l'aide d'autoencodeurs variationnels conditionnels </b> </font> </center> <hr>\n",
    "</div>"
   ]
  },
  {
   "cell_type": "markdown",
   "metadata": {},
   "source": [
    "<div class=\"alert alert-block\" role=\"alert\">\n",
    "    <center><b> <u>Auteur :</u>  Clement GOUBET  </b></center>\n",
    "</div>\n",
    "<div class=\"alert alert-block\" role=\"alert\">\n",
    "    <center> <font size=\"+1.5\"> <b>  23 juillet 2019  </b>  </font> </center>\n",
    "</div>"
   ]
  },
  {
   "cell_type": "markdown",
   "metadata": {},
   "source": [
    "# Table de contenu\n",
    "\n",
    "## 0. Préparation de l'environnement de travail\n",
    "- chargement des modules\n",
    "- mise en forme des données\n",
    "- définition de quelques fonctions utiles\n",
    "\n",
    "## 1. Premier modèle VAE\n",
    "- construction du modèle\n",
    "- entrainement\n",
    "- évaluation de la représentation obtenue\n",
    "- premières interprétations\n",
    "\n",
    "## 2. Modèle CVAE\n",
    "- construction du modèle\n",
    "- entrainement\n",
    "- évaluation de la représentation obtenue\n",
    "- premières interprétations\n",
    "- analyse spécifique jours fériés et points atypiques"
   ]
  },
  {
   "cell_type": "markdown",
   "metadata": {},
   "source": [
    "<div class=\"alert alert-info\" role=\"alert\">\n",
    "    <font size=\"+2\"> <b> 0. Preparation de l'environnement de travail </b> </font> <hr>\n",
    "</div>"
   ]
  },
  {
   "cell_type": "markdown",
   "metadata": {},
   "source": [
    "# Chargement des modules et mise en forme des données"
   ]
  },
  {
   "cell_type": "code",
   "execution_count": 1,
   "metadata": {},
   "outputs": [],
   "source": [
    "#import external libraries\n",
    "import sys\n",
    "import os\n",
    "import datetime\n",
    "import pandas as pd\n",
    "import numpy as np\n",
    "import pickle\n",
    "from matplotlib import pyplot as plt\n",
    "import seaborn as sn\n",
    "from scipy import stats\n",
    "import cv2 #from open-cv, to convert array to images\n",
    "from IPython.display import Image\n",
    "from tensorflow.keras.callbacks import TensorBoard\n",
    "from time import time\n",
    "from sklearn.decomposition import PCA\n",
    "\n",
    "import warnings\n",
    "warnings.filterwarnings('ignore')"
   ]
  },
  {
   "cell_type": "code",
   "execution_count": 2,
   "metadata": {},
   "outputs": [],
   "source": [
    "import tensorflow as tf\n"
   ]
  },
  {
   "cell_type": "code",
   "execution_count": 3,
   "metadata": {},
   "outputs": [],
   "source": [
    "#paths in git\n",
    "\n",
    "#root git folder \n",
    "path_main_folder = '/home/goubetcle/Documents/Git/Autoencoder_Embedding_Expert_Caracteristion_'\n",
    "#path_main_folder = '/home/jovyan'#specify the root folder of the git repo\n",
    "\n",
    "#add  to path root git folder \n",
    "sys.path.append(path_main_folder)\n",
    "#add  to path source code folder\n",
    "sys.path.append(path_main_folder+'/src')"
   ]
  },
  {
   "cell_type": "code",
   "execution_count": 4,
   "metadata": {},
   "outputs": [],
   "source": [
    "#import class and methods from src\n",
    "from tensorflow.keras import backend as K\n",
    "from CVAE.callbacks import *\n",
    "#from CVAE.cvae import compile_cvae, run_cvae\n",
    "from conso.load_shape_data import *\n",
    "\n",
    "import Visualisation.buildProjector\n",
    "from Visualisation.buildProjector import *\n",
    "from FeaturesScore.scoring import *\n",
    "from FeaturesScore.exploration import *\n",
    "\n",
    "#from conso.load_shape_data import get_x_conso_autoencoder\n",
    "from conso.conso_helpers import plot_latent_space_projection, pyplot_latent_space_projection_temp, pyplot_latent_space_projection_error\n"
   ]
  },
  {
   "cell_type": "markdown",
   "metadata": {},
   "source": [
    "Les données de consommation et de température sont des prises de mesure par pas de temps 30 minutes pendant 5 années de décembre 2012 à décembre 2017. "
   ]
  },
  {
   "cell_type": "code",
   "execution_count": 5,
   "metadata": {
    "scrolled": true
   },
   "outputs": [
    {
     "data": {
      "text/html": [
       "<div>\n",
       "<style scoped>\n",
       "    .dataframe tbody tr th:only-of-type {\n",
       "        vertical-align: middle;\n",
       "    }\n",
       "\n",
       "    .dataframe tbody tr th {\n",
       "        vertical-align: top;\n",
       "    }\n",
       "\n",
       "    .dataframe thead th {\n",
       "        text-align: right;\n",
       "    }\n",
       "</style>\n",
       "<table border=\"1\" class=\"dataframe\">\n",
       "  <thead>\n",
       "    <tr style=\"text-align: right;\">\n",
       "      <th></th>\n",
       "      <th>ds</th>\n",
       "      <th>consumption_France</th>\n",
       "      <th>temperature_France</th>\n",
       "      <th>is_holiday_day</th>\n",
       "    </tr>\n",
       "  </thead>\n",
       "  <tbody>\n",
       "    <tr>\n",
       "      <th>87825</th>\n",
       "      <td>2017-12-31 21:30:00</td>\n",
       "      <td>56505.0</td>\n",
       "      <td>9.306475</td>\n",
       "      <td>0.0</td>\n",
       "    </tr>\n",
       "    <tr>\n",
       "      <th>87826</th>\n",
       "      <td>2017-12-31 22:00:00</td>\n",
       "      <td>56000.0</td>\n",
       "      <td>9.097250</td>\n",
       "      <td>0.0</td>\n",
       "    </tr>\n",
       "    <tr>\n",
       "      <th>87827</th>\n",
       "      <td>2017-12-31 22:30:00</td>\n",
       "      <td>56995.0</td>\n",
       "      <td>9.048775</td>\n",
       "      <td>0.0</td>\n",
       "    </tr>\n",
       "    <tr>\n",
       "      <th>87828</th>\n",
       "      <td>2017-12-31 23:00:00</td>\n",
       "      <td>60395.0</td>\n",
       "      <td>9.000300</td>\n",
       "      <td>0.0</td>\n",
       "    </tr>\n",
       "    <tr>\n",
       "      <th>87829</th>\n",
       "      <td>2017-12-31 23:30:00</td>\n",
       "      <td>60230.0</td>\n",
       "      <td>9.000300</td>\n",
       "      <td>0.0</td>\n",
       "    </tr>\n",
       "  </tbody>\n",
       "</table>\n",
       "</div>"
      ],
      "text/plain": [
       "                       ds  consumption_France  temperature_France  \\\n",
       "87825 2017-12-31 21:30:00             56505.0            9.306475   \n",
       "87826 2017-12-31 22:00:00             56000.0            9.097250   \n",
       "87827 2017-12-31 22:30:00             56995.0            9.048775   \n",
       "87828 2017-12-31 23:00:00             60395.0            9.000300   \n",
       "87829 2017-12-31 23:30:00             60230.0            9.000300   \n",
       "\n",
       "       is_holiday_day  \n",
       "87825             0.0  \n",
       "87826             0.0  \n",
       "87827             0.0  \n",
       "87828             0.0  \n",
       "87829             0.0  "
      ]
     },
     "execution_count": 5,
     "metadata": {},
     "output_type": "execute_result"
    }
   ],
   "source": [
    "# Load dataframe\n",
    "path_data = os.path.join(path_main_folder, 'data')\n",
    "dataset_csv = os.path.join(path_data, \"dataset.csv\")\n",
    "x_conso = pd.read_csv(dataset_csv, sep=\",\",)\n",
    "x_conso.ds = pd.to_datetime(x_conso.ds)\n",
    "\n",
    "#drop indices column\n",
    "x_conso=x_conso.drop(columns=x_conso.columns[0],axis=1)\n",
    "\n",
    "#Visualize data frame head\n",
    "x_conso.tail(5)"
   ]
  },
  {
   "cell_type": "markdown",
   "metadata": {},
   "source": [
    "On s'intéresse ici à caractériser les profils journaliers. L'ensemble de données est donc transformé pour que notre jeu d'entrée soit ait en colonnes les points de mesure journaliers de la consommation d'électricité. Avant cela, il est ici normalisé sur l'ensemble des mesures."
   ]
  },
  {
   "cell_type": "code",
   "execution_count": 6,
   "metadata": {},
   "outputs": [
    {
     "name": "stdout",
     "output_type": "stream",
     "text": [
      "['consumption_France']\n"
     ]
    }
   ],
   "source": [
    "name_set_plot = 'train'\n",
    "version = '-v1'\n",
    "nPoints=1830\n",
    "\n",
    "dict_xconso = {'train': x_conso}\n",
    "\n",
    "# Normalize input variables\n",
    "type_scaler = 's'\n",
    "dict_xconso, _ = normalize_xconso(dict_xconso, type_scaler = 'standard')"
   ]
  },
  {
   "cell_type": "code",
   "execution_count": 7,
   "metadata": {},
   "outputs": [],
   "source": [
    "dataset = get_dataset_autoencoder(dict_xconso=dict_xconso)\n"
   ]
  },
  {
   "cell_type": "markdown",
   "metadata": {},
   "source": [
    "Le dictionnaire dataset contient toutes les informations nécessaires à l'entrainement des modèles :\n",
    "- dataset['train']['x'] contient la liste des entrées de l'encodeur:\n",
    "-- [0] les profils de consommations\n",
    "-- [1] les conditions passées en entrée de l'encodeur et du décodeur pour rendre la représentation latente plus indépendante de ces variables\n",
    "- dataset['train']['y'] contient une copie des profils des consommation (pointeur pour le calcul des pertes de reconstruction dans l'apprentissage des modèles)\n",
    "- dataset['train']['ds'] contient les dates des exemples"
   ]
  },
  {
   "cell_type": "markdown",
   "metadata": {},
   "source": [
    "Pour interpréter notre représentation, on peut chercher à visualiser des paramètres connus associés à nos profils journaliers. Ici il s'agit notamment de données calendaires (mois, weekend, jour férié), auxquels on peut rajouter la température moyenne observée sur la journée (par exemple), ou encore la pente moyenne du profil.\n",
    "\n",
    "Ces informations sont à passer dans calendar_info pour être visualisés dans une projection Tensorboard, et à passer en type et en valeur respectivement dans le dictionnaire factorDesc et factorMatrix pour servir dans l'évaluation des latents. "
   ]
  },
  {
   "cell_type": "code",
   "execution_count": 8,
   "metadata": {},
   "outputs": [],
   "source": [
    "#importation des données calendaires\n",
    "calendar_info = pd.DataFrame(dataset[name_set_plot]['ds'])\n",
    "calendar_info['month'] = calendar_info.ds.dt.month\n",
    "calendar_info['weekday'] = calendar_info.ds.dt.weekday\n",
    "calendar_info['is_weekday'] = (calendar_info.weekday < 5).apply(lambda x:int(x))\n",
    "calendar_info = pd.merge(calendar_info, x_conso[['ds', 'is_holiday_day']], on='ds', how ='left')\n",
    "calendar_info.loc[calendar_info['is_holiday_day'].isna(),'is_holiday_day'] = 0\n",
    "calendar_info['year'] = calendar_info.ds.dt.year\n"
   ]
  },
  {
   "cell_type": "code",
   "execution_count": 9,
   "metadata": {},
   "outputs": [
    {
     "data": {
      "text/html": [
       "<div>\n",
       "<style scoped>\n",
       "    .dataframe tbody tr th:only-of-type {\n",
       "        vertical-align: middle;\n",
       "    }\n",
       "\n",
       "    .dataframe tbody tr th {\n",
       "        vertical-align: top;\n",
       "    }\n",
       "\n",
       "    .dataframe thead th {\n",
       "        text-align: right;\n",
       "    }\n",
       "</style>\n",
       "<table border=\"1\" class=\"dataframe\">\n",
       "  <thead>\n",
       "    <tr style=\"text-align: right;\">\n",
       "      <th></th>\n",
       "      <th>ds</th>\n",
       "      <th>month</th>\n",
       "      <th>weekday</th>\n",
       "      <th>is_weekday</th>\n",
       "      <th>is_holiday_day</th>\n",
       "      <th>year</th>\n",
       "    </tr>\n",
       "  </thead>\n",
       "  <tbody>\n",
       "    <tr>\n",
       "      <th>0</th>\n",
       "      <td>2012-12-28</td>\n",
       "      <td>12</td>\n",
       "      <td>4</td>\n",
       "      <td>1</td>\n",
       "      <td>0.0</td>\n",
       "      <td>2012</td>\n",
       "    </tr>\n",
       "    <tr>\n",
       "      <th>1</th>\n",
       "      <td>2012-12-29</td>\n",
       "      <td>12</td>\n",
       "      <td>5</td>\n",
       "      <td>0</td>\n",
       "      <td>0.0</td>\n",
       "      <td>2012</td>\n",
       "    </tr>\n",
       "    <tr>\n",
       "      <th>2</th>\n",
       "      <td>2012-12-30</td>\n",
       "      <td>12</td>\n",
       "      <td>6</td>\n",
       "      <td>0</td>\n",
       "      <td>0.0</td>\n",
       "      <td>2012</td>\n",
       "    </tr>\n",
       "    <tr>\n",
       "      <th>3</th>\n",
       "      <td>2012-12-31</td>\n",
       "      <td>12</td>\n",
       "      <td>0</td>\n",
       "      <td>1</td>\n",
       "      <td>0.0</td>\n",
       "      <td>2012</td>\n",
       "    </tr>\n",
       "    <tr>\n",
       "      <th>4</th>\n",
       "      <td>2013-01-01</td>\n",
       "      <td>1</td>\n",
       "      <td>1</td>\n",
       "      <td>1</td>\n",
       "      <td>1.0</td>\n",
       "      <td>2013</td>\n",
       "    </tr>\n",
       "    <tr>\n",
       "      <th>...</th>\n",
       "      <td>...</td>\n",
       "      <td>...</td>\n",
       "      <td>...</td>\n",
       "      <td>...</td>\n",
       "      <td>...</td>\n",
       "      <td>...</td>\n",
       "    </tr>\n",
       "    <tr>\n",
       "      <th>1825</th>\n",
       "      <td>2017-12-27</td>\n",
       "      <td>12</td>\n",
       "      <td>2</td>\n",
       "      <td>1</td>\n",
       "      <td>0.0</td>\n",
       "      <td>2017</td>\n",
       "    </tr>\n",
       "    <tr>\n",
       "      <th>1826</th>\n",
       "      <td>2017-12-28</td>\n",
       "      <td>12</td>\n",
       "      <td>3</td>\n",
       "      <td>1</td>\n",
       "      <td>0.0</td>\n",
       "      <td>2017</td>\n",
       "    </tr>\n",
       "    <tr>\n",
       "      <th>1827</th>\n",
       "      <td>2017-12-29</td>\n",
       "      <td>12</td>\n",
       "      <td>4</td>\n",
       "      <td>1</td>\n",
       "      <td>0.0</td>\n",
       "      <td>2017</td>\n",
       "    </tr>\n",
       "    <tr>\n",
       "      <th>1828</th>\n",
       "      <td>2017-12-30</td>\n",
       "      <td>12</td>\n",
       "      <td>5</td>\n",
       "      <td>0</td>\n",
       "      <td>0.0</td>\n",
       "      <td>2017</td>\n",
       "    </tr>\n",
       "    <tr>\n",
       "      <th>1829</th>\n",
       "      <td>2017-12-31</td>\n",
       "      <td>12</td>\n",
       "      <td>6</td>\n",
       "      <td>0</td>\n",
       "      <td>0.0</td>\n",
       "      <td>2017</td>\n",
       "    </tr>\n",
       "  </tbody>\n",
       "</table>\n",
       "<p>1830 rows × 6 columns</p>\n",
       "</div>"
      ],
      "text/plain": [
       "             ds  month  weekday  is_weekday  is_holiday_day  year\n",
       "0    2012-12-28     12        4           1             0.0  2012\n",
       "1    2012-12-29     12        5           0             0.0  2012\n",
       "2    2012-12-30     12        6           0             0.0  2012\n",
       "3    2012-12-31     12        0           1             0.0  2012\n",
       "4    2013-01-01      1        1           1             1.0  2013\n",
       "...         ...    ...      ...         ...             ...   ...\n",
       "1825 2017-12-27     12        2           1             0.0  2017\n",
       "1826 2017-12-28     12        3           1             0.0  2017\n",
       "1827 2017-12-29     12        4           1             0.0  2017\n",
       "1828 2017-12-30     12        5           0             0.0  2017\n",
       "1829 2017-12-31     12        6           0             0.0  2017\n",
       "\n",
       "[1830 rows x 6 columns]"
      ]
     },
     "execution_count": 9,
     "metadata": {},
     "output_type": "execute_result"
    }
   ],
   "source": [
    "calendar_info"
   ]
  },
  {
   "cell_type": "code",
   "execution_count": 10,
   "metadata": {},
   "outputs": [],
   "source": [
    "#importation des données météo\n",
    "meteo1_csv = os.path.join(path_data, \"meteo_events.csv\")\n",
    "meteo2_csv = os.path.join(path_data, \"meteo_events_2.csv\")\n",
    "\n",
    "meteo_events1 = pd.read_csv(meteo1_csv)\n",
    "meteo_events2 = pd.read_csv(meteo2_csv)\n",
    "meteo_events = meteo_events1.append(meteo_events2)\n",
    "events = ['snow', 'floods', 'storm', 'hurricane', 'heavy_rains', 'cold', 'hot']\n",
    "meteo_records=pd.DataFrame(data=np.zeros((nPoints, len(events))), columns=events)\n",
    "from datetime import *\n",
    "for k in range(meteo_events.shape[0]):\n",
    "    day = datetime.strptime(meteo_events.iloc[k,0],'%Y-%m-%d')\n",
    "    cld = np.asarray(calendar_info.ds.dt.date)\n",
    "    row = np.where(cld==day.date())[0]\n",
    "    meteo_records.iloc[row,:]+=np.asarray(meteo_events.iloc[k,2:-1])\n",
    "    duration = int(meteo_events.iloc[k,1])\n",
    "    if duration != 0:\n",
    "        for i in range(duration):\n",
    "            day_inc = timedelta(days=i+1)+day\n",
    "            cld = np.asarray(calendar_info.ds.dt.date)\n",
    "            row = np.where(cld==day_inc.date())[0]\n",
    "            meteo_records.iloc[row,:]+=np.asarray(meteo_events.iloc[k,2:-1])\n",
    "\n",
    "meteo_records.iloc[:,:] = 1*(meteo_records.iloc[:,:]>0)"
   ]
  },
  {
   "cell_type": "code",
   "execution_count": 11,
   "metadata": {},
   "outputs": [
    {
     "data": {
      "text/html": [
       "<div>\n",
       "<style scoped>\n",
       "    .dataframe tbody tr th:only-of-type {\n",
       "        vertical-align: middle;\n",
       "    }\n",
       "\n",
       "    .dataframe tbody tr th {\n",
       "        vertical-align: top;\n",
       "    }\n",
       "\n",
       "    .dataframe thead th {\n",
       "        text-align: right;\n",
       "    }\n",
       "</style>\n",
       "<table border=\"1\" class=\"dataframe\">\n",
       "  <thead>\n",
       "    <tr style=\"text-align: right;\">\n",
       "      <th></th>\n",
       "      <th>snow</th>\n",
       "      <th>floods</th>\n",
       "      <th>storm</th>\n",
       "      <th>hurricane</th>\n",
       "      <th>heavy_rains</th>\n",
       "      <th>cold</th>\n",
       "      <th>hot</th>\n",
       "    </tr>\n",
       "  </thead>\n",
       "  <tbody>\n",
       "    <tr>\n",
       "      <th>count</th>\n",
       "      <td>1830.000000</td>\n",
       "      <td>1830.000000</td>\n",
       "      <td>1830.000000</td>\n",
       "      <td>1830.000000</td>\n",
       "      <td>1830.000000</td>\n",
       "      <td>1830.000000</td>\n",
       "      <td>1830.000000</td>\n",
       "    </tr>\n",
       "    <tr>\n",
       "      <th>mean</th>\n",
       "      <td>0.092350</td>\n",
       "      <td>0.077049</td>\n",
       "      <td>0.087432</td>\n",
       "      <td>0.068852</td>\n",
       "      <td>0.087432</td>\n",
       "      <td>0.074863</td>\n",
       "      <td>0.157377</td>\n",
       "    </tr>\n",
       "    <tr>\n",
       "      <th>std</th>\n",
       "      <td>0.289598</td>\n",
       "      <td>0.266742</td>\n",
       "      <td>0.282544</td>\n",
       "      <td>0.253272</td>\n",
       "      <td>0.282544</td>\n",
       "      <td>0.263243</td>\n",
       "      <td>0.364255</td>\n",
       "    </tr>\n",
       "    <tr>\n",
       "      <th>min</th>\n",
       "      <td>0.000000</td>\n",
       "      <td>0.000000</td>\n",
       "      <td>0.000000</td>\n",
       "      <td>0.000000</td>\n",
       "      <td>0.000000</td>\n",
       "      <td>0.000000</td>\n",
       "      <td>0.000000</td>\n",
       "    </tr>\n",
       "    <tr>\n",
       "      <th>25%</th>\n",
       "      <td>0.000000</td>\n",
       "      <td>0.000000</td>\n",
       "      <td>0.000000</td>\n",
       "      <td>0.000000</td>\n",
       "      <td>0.000000</td>\n",
       "      <td>0.000000</td>\n",
       "      <td>0.000000</td>\n",
       "    </tr>\n",
       "    <tr>\n",
       "      <th>50%</th>\n",
       "      <td>0.000000</td>\n",
       "      <td>0.000000</td>\n",
       "      <td>0.000000</td>\n",
       "      <td>0.000000</td>\n",
       "      <td>0.000000</td>\n",
       "      <td>0.000000</td>\n",
       "      <td>0.000000</td>\n",
       "    </tr>\n",
       "    <tr>\n",
       "      <th>75%</th>\n",
       "      <td>0.000000</td>\n",
       "      <td>0.000000</td>\n",
       "      <td>0.000000</td>\n",
       "      <td>0.000000</td>\n",
       "      <td>0.000000</td>\n",
       "      <td>0.000000</td>\n",
       "      <td>0.000000</td>\n",
       "    </tr>\n",
       "    <tr>\n",
       "      <th>max</th>\n",
       "      <td>1.000000</td>\n",
       "      <td>1.000000</td>\n",
       "      <td>1.000000</td>\n",
       "      <td>1.000000</td>\n",
       "      <td>1.000000</td>\n",
       "      <td>1.000000</td>\n",
       "      <td>1.000000</td>\n",
       "    </tr>\n",
       "  </tbody>\n",
       "</table>\n",
       "</div>"
      ],
      "text/plain": [
       "              snow       floods        storm    hurricane  heavy_rains  \\\n",
       "count  1830.000000  1830.000000  1830.000000  1830.000000  1830.000000   \n",
       "mean      0.092350     0.077049     0.087432     0.068852     0.087432   \n",
       "std       0.289598     0.266742     0.282544     0.253272     0.282544   \n",
       "min       0.000000     0.000000     0.000000     0.000000     0.000000   \n",
       "25%       0.000000     0.000000     0.000000     0.000000     0.000000   \n",
       "50%       0.000000     0.000000     0.000000     0.000000     0.000000   \n",
       "75%       0.000000     0.000000     0.000000     0.000000     0.000000   \n",
       "max       1.000000     1.000000     1.000000     1.000000     1.000000   \n",
       "\n",
       "              cold          hot  \n",
       "count  1830.000000  1830.000000  \n",
       "mean      0.074863     0.157377  \n",
       "std       0.263243     0.364255  \n",
       "min       0.000000     0.000000  \n",
       "25%       0.000000     0.000000  \n",
       "50%       0.000000     0.000000  \n",
       "75%       0.000000     0.000000  \n",
       "max       1.000000     1.000000  "
      ]
     },
     "execution_count": 11,
     "metadata": {},
     "output_type": "execute_result"
    }
   ],
   "source": [
    "meteo_records.describe()"
   ]
  },
  {
   "cell_type": "code",
   "execution_count": 12,
   "metadata": {},
   "outputs": [],
   "source": [
    "#Study conso variations as importance factors\n",
    "slope = np.abs(np.diff(dataset['train']['x'][0]))\n",
    "#variationMax = np.max(slope, axis=1)\n",
    "variationMean = np.mean(slope, axis = 1)\n",
    "#calendar_info['load_variation_max'] = variationMax\n",
    "calendar_info['load_variation_mean'] = variationMean"
   ]
  },
  {
   "cell_type": "code",
   "execution_count": 13,
   "metadata": {},
   "outputs": [],
   "source": [
    "#explicit the potential bridge days taken as extended holidays\n",
    "day_hol = calendar_info[['weekday', 'is_holiday_day']].copy().values\n",
    "bridge_index=[]\n",
    "for i in range(day_hol.shape[0]):\n",
    "    if day_hol[i,1]==1:\n",
    "        if day_hol[i,0]==1:\n",
    "            bridge_index.append(i-1)\n",
    "        elif day_hol[i,0]==3:\n",
    "            bridge_index.append(i+1)\n",
    "\n",
    "bridges = np.zeros(day_hol.shape[0])\n",
    "bridges[np.asarray(bridge_index)] = 1\n",
    "\n",
    "calendar_info['potential_bridge_holiday'] = bridges\n",
    "#calendar_info['potential_bridge_holiday'].describe()"
   ]
  },
  {
   "cell_type": "code",
   "execution_count": 14,
   "metadata": {},
   "outputs": [],
   "source": [
    "factors = calendar_info.iloc[:,1:5].copy()\n",
    "columns_x = x_conso.columns\n",
    "conso_idx = np.argmax(['consumption' in c for c in x_conso.columns])\n",
    "temp_idx = np.argmax(['temperature' in c for c in x_conso.columns])\n",
    "dates = np.unique(x_conso['ds'].dt.date)\n",
    "temperatureMean=np.asarray([np.mean(x_conso[columns_x[temp_idx]].iloc[np.where(x_conso['ds'].dt.date==dates[k])]) for k in range(dates.shape[0])])\n",
    "\n",
    "factorMatrix = np.c_[factors.values,temperatureMean]\n",
    "\n",
    "factorDesc={\n",
    "    'month':'category',\n",
    "    'weekday':'category',\n",
    "    'is_weekday':'category',\n",
    "    'is_holiday_day':'category',\n",
    "    'temperature':'regressor'\n",
    "}"
   ]
  },
  {
   "cell_type": "code",
   "execution_count": 15,
   "metadata": {},
   "outputs": [
    {
     "data": {
      "text/html": [
       "<div>\n",
       "<style scoped>\n",
       "    .dataframe tbody tr th:only-of-type {\n",
       "        vertical-align: middle;\n",
       "    }\n",
       "\n",
       "    .dataframe tbody tr th {\n",
       "        vertical-align: top;\n",
       "    }\n",
       "\n",
       "    .dataframe thead th {\n",
       "        text-align: right;\n",
       "    }\n",
       "</style>\n",
       "<table border=\"1\" class=\"dataframe\">\n",
       "  <thead>\n",
       "    <tr style=\"text-align: right;\">\n",
       "      <th></th>\n",
       "      <th>snow</th>\n",
       "      <th>floods</th>\n",
       "      <th>storm</th>\n",
       "      <th>hurricane</th>\n",
       "      <th>heavy_rains</th>\n",
       "      <th>cold</th>\n",
       "      <th>hot</th>\n",
       "    </tr>\n",
       "  </thead>\n",
       "  <tbody>\n",
       "    <tr>\n",
       "      <th>0</th>\n",
       "      <td>0</td>\n",
       "      <td>0</td>\n",
       "      <td>0</td>\n",
       "      <td>0</td>\n",
       "      <td>0</td>\n",
       "      <td>0</td>\n",
       "      <td>0</td>\n",
       "    </tr>\n",
       "    <tr>\n",
       "      <th>1</th>\n",
       "      <td>0</td>\n",
       "      <td>0</td>\n",
       "      <td>0</td>\n",
       "      <td>0</td>\n",
       "      <td>0</td>\n",
       "      <td>0</td>\n",
       "      <td>0</td>\n",
       "    </tr>\n",
       "    <tr>\n",
       "      <th>2</th>\n",
       "      <td>0</td>\n",
       "      <td>0</td>\n",
       "      <td>0</td>\n",
       "      <td>0</td>\n",
       "      <td>0</td>\n",
       "      <td>0</td>\n",
       "      <td>0</td>\n",
       "    </tr>\n",
       "    <tr>\n",
       "      <th>3</th>\n",
       "      <td>0</td>\n",
       "      <td>0</td>\n",
       "      <td>0</td>\n",
       "      <td>0</td>\n",
       "      <td>0</td>\n",
       "      <td>0</td>\n",
       "      <td>0</td>\n",
       "    </tr>\n",
       "    <tr>\n",
       "      <th>4</th>\n",
       "      <td>0</td>\n",
       "      <td>0</td>\n",
       "      <td>0</td>\n",
       "      <td>0</td>\n",
       "      <td>0</td>\n",
       "      <td>0</td>\n",
       "      <td>0</td>\n",
       "    </tr>\n",
       "    <tr>\n",
       "      <th>...</th>\n",
       "      <td>...</td>\n",
       "      <td>...</td>\n",
       "      <td>...</td>\n",
       "      <td>...</td>\n",
       "      <td>...</td>\n",
       "      <td>...</td>\n",
       "      <td>...</td>\n",
       "    </tr>\n",
       "    <tr>\n",
       "      <th>1825</th>\n",
       "      <td>0</td>\n",
       "      <td>0</td>\n",
       "      <td>0</td>\n",
       "      <td>0</td>\n",
       "      <td>0</td>\n",
       "      <td>0</td>\n",
       "      <td>0</td>\n",
       "    </tr>\n",
       "    <tr>\n",
       "      <th>1826</th>\n",
       "      <td>0</td>\n",
       "      <td>0</td>\n",
       "      <td>0</td>\n",
       "      <td>0</td>\n",
       "      <td>0</td>\n",
       "      <td>0</td>\n",
       "      <td>0</td>\n",
       "    </tr>\n",
       "    <tr>\n",
       "      <th>1827</th>\n",
       "      <td>0</td>\n",
       "      <td>0</td>\n",
       "      <td>0</td>\n",
       "      <td>0</td>\n",
       "      <td>0</td>\n",
       "      <td>0</td>\n",
       "      <td>0</td>\n",
       "    </tr>\n",
       "    <tr>\n",
       "      <th>1828</th>\n",
       "      <td>0</td>\n",
       "      <td>0</td>\n",
       "      <td>0</td>\n",
       "      <td>0</td>\n",
       "      <td>0</td>\n",
       "      <td>0</td>\n",
       "      <td>0</td>\n",
       "    </tr>\n",
       "    <tr>\n",
       "      <th>1829</th>\n",
       "      <td>0</td>\n",
       "      <td>0</td>\n",
       "      <td>0</td>\n",
       "      <td>1</td>\n",
       "      <td>0</td>\n",
       "      <td>0</td>\n",
       "      <td>0</td>\n",
       "    </tr>\n",
       "  </tbody>\n",
       "</table>\n",
       "<p>1830 rows × 7 columns</p>\n",
       "</div>"
      ],
      "text/plain": [
       "      snow  floods  storm  hurricane  heavy_rains  cold  hot\n",
       "0        0       0      0          0            0     0    0\n",
       "1        0       0      0          0            0     0    0\n",
       "2        0       0      0          0            0     0    0\n",
       "3        0       0      0          0            0     0    0\n",
       "4        0       0      0          0            0     0    0\n",
       "...    ...     ...    ...        ...          ...   ...  ...\n",
       "1825     0       0      0          0            0     0    0\n",
       "1826     0       0      0          0            0     0    0\n",
       "1827     0       0      0          0            0     0    0\n",
       "1828     0       0      0          0            0     0    0\n",
       "1829     0       0      0          1            0     0    0\n",
       "\n",
       "[1830 rows x 7 columns]"
      ]
     },
     "execution_count": 15,
     "metadata": {},
     "output_type": "execute_result"
    }
   ],
   "source": [
    "meteo_records"
   ]
  },
  {
   "cell_type": "markdown",
   "metadata": {},
   "source": [
    "# Tools to evaluate the representations"
   ]
  },
  {
   "cell_type": "code",
   "execution_count": 16,
   "metadata": {},
   "outputs": [],
   "source": [
    "#visualisation des metriques\n",
    "def display_metrics(model_eval, z_dim, factorDesc):\n",
    "    if 'reconstruction_error' in model_eval.keys():\n",
    "        for k,v in model_eval['reconstruction_error'].item():\n",
    "            print(k, ' : ', v)\n",
    "    print('Mutual Information Gap : %.2f'%model_eval['mig'])\n",
    "\n",
    "    fig = plt.figure(dpi=100,figsize=(10,8))\n",
    "\n",
    "    plt.subplot(2, 3, 1)\n",
    "    fig.subplots_adjust(hspace=0.5)\n",
    "    plt.bar(factorDesc.keys(),model_eval['informativeness'])\n",
    "    plt.xlabel('factors')\n",
    "    plt.xticks(rotation=75)\n",
    "    plt.ylim(top=1)\n",
    "    for index,data in enumerate(model_eval['informativeness']):\n",
    "        plt.text(x=index - 0.5, y =data+0.01 , s=\"%.2f\"%data , fontdict=dict(fontsize=10))\n",
    "    plt.title('Informativeness score : %.2f'%np.mean(model_eval['informativeness']))\n",
    "\n",
    "    plt.subplot(2, 3, 2)\n",
    "    plt.bar(np.arange(z_dim)+1,np.log(6)*model_eval['disentanglement'])\n",
    "    plt.xlabel('latent variables')\n",
    "    plt.title('Disentanglement score : %.2f'%model_eval['mean_disentanglement']);\n",
    "\n",
    "    plt.subplot(2, 3, 3)\n",
    "    plt.bar(factorDesc.keys(),model_eval['compactness'])\n",
    "    plt.xlabel('factors')\n",
    "    plt.xticks(rotation=75)\n",
    "    plt.title('Compactness')\n",
    "    plt.tight_layout();\n",
    "    \n",
    "    plt.subplot(2, 3, 5)\n",
    "    plt.bar(np.arange(z_dim)+1,1-model_eval['modularity'])\n",
    "    plt.xlabel('latent variables')\n",
    "    plt.title('Modularity score : %.2f'%np.mean(1-model_eval['modularity']));"
   ]
  },
  {
   "cell_type": "code",
   "execution_count": 17,
   "metadata": {},
   "outputs": [],
   "source": [
    "from math import cos, sin\n",
    "#visualisation d'une représentation 2D dans le notebook\n",
    "def prez_2D(x_encoded):\n",
    "    proj2D = PCA(2)\n",
    "    proj = proj2D.fit_transform(x_encoded)\n",
    "    plt.figure(figsize=(36,18))\n",
    "    \n",
    "    #visualisation des mois par un disque de fond coloré\n",
    "    for i in np.unique(factorMatrix[:,1]):\n",
    "        i = int(i)\n",
    "        index = factorMatrix[:,1]==i\n",
    "        plt.scatter(x=proj[index,0], y=proj[index,1], c= factorMatrix[index,0], marker = 'o', s=500, alpha=0.5, cmap = 'Paired')\n",
    "\n",
    "    plt.colorbar().set_label('month');\n",
    "    \n",
    "    #visualisation de la température par la coloration graduelle du jour de la semaine\n",
    "    for i in np.unique(factorMatrix[:,1]):\n",
    "        i = int(i)\n",
    "        index = factorMatrix[:,1]==i\n",
    "        plt.scatter(x=proj[index,0], y=proj[index,1], c= temperatureMean[index], marker = '$'+str(i)+'$', s=200)\n",
    "\n",
    "    plt.colorbar().set_label('temperature');\n",
    "    \n",
    "def prez_3D(x_encoded):\n",
    "    proj3D = PCA(3)\n",
    "    proj_z = proj3D.fit_transform(x_encoded)\n",
    "    plt.figure(figsize=(36,18))\n",
    "    \n",
    "    proj = proj_z[:,:2]\n",
    "    third = proj_z[:,2]\n",
    "    \n",
    "    proj = proj + np.tile(third.reshape(-1,1), (1,2)) * np.tile(np.array([[-cos(0.785),sin(0.785)]]),(nPoints,1))\n",
    "    \n",
    "    size = 300  + (1.- np.exp(-third / max(third))) * 800\n",
    "    #visualisation des mois par un disque de fond coloré\n",
    "    for i in np.unique(factorMatrix[:,1]):\n",
    "        i = int(i)\n",
    "        index = factorMatrix[:,1]==i\n",
    "        plt.scatter(x=proj[index,0], y=proj[index,1], c= factorMatrix[index,0], marker = 'o', s=size, alpha=0.5, cmap = 'Paired')\n",
    "\n",
    "    plt.colorbar().set_label('month');\n",
    "    \n",
    "    #visualisation de la température par la coloration graduelle du jour de la semaine\n",
    "    for i in np.unique(factorMatrix[:,1]):\n",
    "        i = int(i)\n",
    "        index = factorMatrix[:,1]==i\n",
    "        plt.scatter(x=proj[index,0], y=proj[index,1], c= temperatureMean[index], marker = '$'+str(i)+'$', s=200)\n",
    "\n",
    "    plt.colorbar().set_label('temperature');"
   ]
  },
  {
   "cell_type": "markdown",
   "metadata": {},
   "source": [
    "Pour créer une représentation sous tensorboard, la fonction suivante regroupe toutes les étapes. Le booléen includeConsuptionProfileImages active ou non le marqueur des points à l'image des profils de consommation."
   ]
  },
  {
   "cell_type": "code",
   "execution_count": 18,
   "metadata": {},
   "outputs": [],
   "source": [
    "def tensorboardProjection(name_model,x, x_hat, x_encoded, x_conso, calendar_info, log_dir_projector, includeConsumptionProfileImages=True):\n",
    "    #can take a bit longer to create and load in tensorboard projector, but it looks better in the projector\n",
    "    if includeConsumptionProfileImages:\n",
    "        nPoints=1500 #if you want to visualize images of consumption profiles and its recontruction in tensorboard, there is a maximum size that can be handle for a sprite image. 1830 is  \n",
    "        x_encoded_reduced=x_encoded[0:nPoints,]\n",
    "        images=createLoadProfileImages(x,x_hat,nPoints)\n",
    "    else:\n",
    "        nPoints=1830\n",
    "        \n",
    "    if includeConsumptionProfileImages:\n",
    "        sprites=images_to_sprite(images)\n",
    "        cv2.imwrite(os.path.join(log_dir_projector, 'sprite_4_classes.png'), sprites)\n",
    "    \n",
    "    writeMetaData(log_dir_projector,x_conso,calendar_info,nPoints,has_Odd=False)\n",
    "    if includeConsumptionProfileImages:\n",
    "        buildProjector(x_encoded_reduced,images=images, log_dir=log_dir_projector)\n",
    "    else:\n",
    "        buildProjector(x_encoded,images=None, log_dir=log_dir_projector)\n",
    "        \n",
    "    print(log_dir_projector)"
   ]
  },
  {
   "cell_type": "code",
   "execution_count": 19,
   "metadata": {},
   "outputs": [],
   "source": [
    "#Visualisation des courbes de charge en entrée et reconstruite par le modèle\n",
    "mean_sc, var_sc = stats.describe(x_conso.consumption_France)[2:4]\n",
    "std_sc = np.sqrt(var_sc)\n",
    "def display_loads(x, x_hat,date,mae):\n",
    "    fig = plt.figure(dpi=100,figsize=(5,5))\n",
    "    #set(gca,'Color','k')\n",
    "    plt.plot(x*std_sc+ mean_sc, label = 'truth')\n",
    "    plt.plot(x_hat*std_sc+ mean_sc, '--', label = 'reconstruction')\n",
    "    plt.title(date+' - mean absolute error %0.2f GW' %(mae*std_sc/1000))\n",
    "    plt.xlabel('hours')\n",
    "    plt.ylabel('load (MW)')\n",
    "    plt.xlim((0,48))\n",
    "    plt.xticks([5,11,17,23,29,35,41], [3,6,9,12,15,18,21])\n",
    "    plt.legend(loc='lower right')\n",
    "    plt.grid();"
   ]
  },
  {
   "cell_type": "markdown",
   "metadata": {},
   "source": [
    "<div class=\"alert alert-info\" role=\"alert\">\n",
    "    <font size=\"+2\"> <b> 1. Un modèle classique </b> </font> <hr>\n",
    "</div>\n",
    "\n",
    "## Rappels\n",
    "\n",
    "Les autoencodeurs variationnels sont des modèles qui fonctionnent en duo:\n",
    "- un encodeur qui traduit les données d'entrée dans un espace latent de dimension arbitrairement choisie. Plus exactement il cherche les paramètres de distribution des variables latentes dans chacune des dimensions.\n",
    "- un decodeur qui cherche à reconstruire les entrées à partir des coordonnées dans l'espace latent\n",
    "\n",
    "Pendant l'appentissage, le lien entre encodeur et decodeur est réalisé par l'échantillage selon les paramètres de distribution appris : chaque échantillon a des coordonnées latentes tirées aléatoirement selon cette dernière, que le décodeur cherche à retraduire dans l'espace de dimension initial. "
   ]
  },
  {
   "cell_type": "markdown",
   "metadata": {},
   "source": [
    "## Construire et entrainer un modèle VAE\n",
    "\n",
    "Il s'agit dans un premier temps de paramétrer les dimensions des couches de nos réseaux de neurone:\n",
    "- celles de l'encodeur e_dim\n",
    "- celles du décodeur d_dims\n",
    "- les dimensions de notre espace latent z_dim (chaque paramètre de distribution sera donc aussi de dimension z_dim)"
   ]
  },
  {
   "cell_type": "code",
   "execution_count": 20,
   "metadata": {},
   "outputs": [
    {
     "data": {
      "image/png": "[encoded data removed]",
      "text/plain": [
       "<IPython.core.display.Image object>"
      ]
     },
     "execution_count": 20,
     "metadata": {
      "image/png": {
       "height": 150,
       "width": 1000
      }
     },
     "output_type": "execute_result"
    }
   ],
   "source": [
    "Image(path_main_folder+'/images/VAE.png', width=1000, height=150)"
   ]
  },
  {
   "cell_type": "code",
   "execution_count": 21,
   "metadata": {},
   "outputs": [],
   "source": [
    "# paramètres de l'autoencodeur\n",
    "z_dim = 4 # le nombre de dimensions voulues dans notre représentation latente\n",
    "e_dims=[48,48,24,12]# les couches cachées du bloc encodeur; premier nombre = inputs_dim\n",
    "d_dims=[48,24,12]# les couches cachées du bloc decodeur; premier nombre = outputs_dim\n",
    "lr=3e-4 # le learning rate de l'optimiseur\n",
    "input_dim = dataset['train']['x'][0].shape[1]"
   ]
  },
  {
   "cell_type": "markdown",
   "metadata": {},
   "source": [
    "Pour les paramètres liés au modèle, il faut rappeler le fonctionnement du VAE. On cherche la maximisation de la borne inférieure de la log-vraissemblance du modèle reconstruit ou ELBO qui se décompose en deux termes :\n",
    "\n",
    "ELBO $= \\mathbb{E}_{q_\\phi(z|x)} \\log(p_\\theta(x|z)) - KL(q_\\phi(z|x) \\| p(z))$\n",
    "\n",
    "Dans notre objectif d'apprentissage, cela est traduit par une perte à minimiser de la forme:\n",
    "\n",
    "Obj $= \\|x - \\hat{x}\\| +  KL(q_\\phi(z|x) \\| p(z))$.\n",
    "\n",
    "- L'erreur de reconstruction peut être choisie selon une mesure en norme L1 ou L2. La norme L1 permet notamment d'obtenir des profils avec moins de valeurs abérrantes.\n",
    "\n",
    "- Un prior $p(z)$ laplacien plutôt que gaussien permet des concentrations plus piquées des groupements similaires, et renvoie plus loin les points atypiques. "
   ]
  },
  {
   "cell_type": "code",
   "execution_count": 22,
   "metadata": {},
   "outputs": [
    {
     "data": {
      "image/jpeg": "[encoded data removed]",
      "text/plain": [
       "<IPython.core.display.Image object>"
      ]
     },
     "execution_count": 22,
     "metadata": {
      "image/jpeg": {
       "width": 500
      }
     },
     "output_type": "execute_result"
    }
   ],
   "source": [
    "Image(path_main_folder+'/images/lois_laplace_normale.jpg', width=500)"
   ]
  },
  {
   "cell_type": "markdown",
   "metadata": {},
   "source": [
    "\n",
    "- Par ailleurs, pour faciliter l'apprentissage du modèle de façon structurée dans les dimensions choisies de l'espace latent, l'action peut se porter sur le choix du prior comme sur des critères de régularisation devant le terme de divergence.\n",
    "\n",
    "    Ces termes de régularisation s'appliquent de la façon suivante :\n",
    "\n",
    "    Obj $= \\|x - \\hat{x}\\| +  \\beta KL(q_\\phi(z|x) \\| p(z)) + \\gamma MMD(q_\\phi(z) \\| p(z))$ si modèle InfoVAE\n",
    "    avec $\\beta \\in \\left[0,1\\right] $ et $\\gamma \\ge 0$ (si possible grand)"
   ]
  },
  {
   "cell_type": "code",
   "execution_count": 23,
   "metadata": {},
   "outputs": [],
   "source": [
    "# paramètres de l'entrainement du modèle\n",
    "epochs = 800\n",
    "batch_size = 16"
   ]
  },
  {
   "cell_type": "markdown",
   "metadata": {},
   "source": [
    "all_info = calendar_info.join(meteo_records)\n",
    "tensorProj = True\n",
    "if tensorProj:\n",
    "    tensorboardProjection(name_model,x,x_hat, x_encoded, x_conso, all_info, log_dir_projector, includeConsumptionProfileImages=True)"
   ]
  },
  {
   "cell_type": "code",
   "execution_count": 24,
   "metadata": {},
   "outputs": [
    {
     "name": "stdout",
     "output_type": "stream",
     "text": [
      "temperature (1830, 48)\n",
      "month (1830, 12)\n",
      "weekday (1830, 1)\n",
      "4\n"
     ]
    }
   ],
   "source": [
    "to_cond = [\"temperature\", \"month\", \"weekday\"]\n",
    "dataset_emb, cond_to_emb = get_dataset_autoencoder(dict_xconso=dict_xconso, list_cond=to_cond, embedding=True)"
   ]
  },
  {
   "cell_type": "code",
   "execution_count": 25,
   "metadata": {},
   "outputs": [],
   "source": [
    "#root git folder \n",
    "name_model=\"vae_test\"\n",
    "path_second_folder = \"/home/goubetcle/Documents/Git/VAE/\"\n",
    "save_path = \"/home/goubetcle/Documents/VAE/\"\n",
    "log_dir_model=save_path+\"/logs/Usecase/\"\n",
    "#path_main_folder = '/home/jovyan'#specify the root folder of the git repo\n",
    "\n",
    "#add  to path root git folder \n",
    "sys.path.append(path_second_folder)"
   ]
  },
  {
   "cell_type": "code",
   "execution_count": 26,
   "metadata": {
    "scrolled": true
   },
   "outputs": [
    {
     "data": {
      "text/plain": [
       "<module 'AE_blocks' from '/home/goubetcle/Documents/Git/VAE/AE_blocks.py'>"
      ]
     },
     "execution_count": 26,
     "metadata": {},
     "output_type": "execute_result"
    }
   ],
   "source": [
    "import importlib\n",
    "import models, loss_class, params_class,AE_blocks\n",
    "from models import *\n",
    "importlib.reload(models)\n",
    "from loss_class import *\n",
    "importlib.reload(loss_class)\n",
    "from params_class import *\n",
    "importlib.reload(params_class)\n",
    "import AE_blocks\n",
    "importlib.reload(AE_blocks)\n"
   ]
  },
  {
   "cell_type": "code",
   "execution_count": 1,
   "metadata": {
    "scrolled": true
   },
   "outputs": [
    {
     "ename": "NameError",
     "evalue": "name 'VAE_params' is not defined",
     "output_type": "error",
     "traceback": [
      "\u001b[0;31m---------------------------------------------------------------------------\u001b[0m",
      "\u001b[0;31mNameError\u001b[0m                                 Traceback (most recent call last)",
      "\u001b[0;32m<ipython-input-1-610a740cb8ee>\u001b[0m in \u001b[0;36m<module>\u001b[0;34m\u001b[0m\n\u001b[0;32m----> 1\u001b[0;31m \u001b[0mvae_params\u001b[0m \u001b[0;34m=\u001b[0m \u001b[0mVAE_params\u001b[0m\u001b[0;34m(\u001b[0m\u001b[0mname\u001b[0m\u001b[0;34m=\u001b[0m\u001b[0mname_model\u001b[0m\u001b[0;34m,\u001b[0m \u001b[0mout_dir\u001b[0m \u001b[0;34m=\u001b[0m \u001b[0mlog_dir_model\u001b[0m\u001b[0;34m)\u001b[0m\u001b[0;34m\u001b[0m\u001b[0;34m\u001b[0m\u001b[0m\n\u001b[0m",
      "\u001b[0;31mNameError\u001b[0m: name 'VAE_params' is not defined"
     ]
    }
   ],
   "source": [
    "vae_params = VAE_params(name=name_model, out_dir = log_dir_model)"
   ]
  },
  {
   "cell_type": "code",
   "execution_count": null,
   "metadata": {},
   "outputs": [],
   "source": [
    "vae_params.set_model_params()\n",
    "vae_params.set_training_params()"
   ]
  },
  {
   "cell_type": "code",
   "execution_count": null,
   "metadata": {},
   "outputs": [],
   "source": [
    "vae_params.model_params.encoder_dims = e_dims\n",
    "vae_params.model_params.decoder_dims = d_dims\n",
    "vae_params.model_params.cond_dims = cond_to_emb\n",
    "vae_params.model_params.with_embedding = True\n",
    "vae_params.model_params.emb_dims = [[48,24,8],[12,4],[],6]\n",
    "vae_params.model_params.nb_encoder_ensemble = 1"
   ]
  },
  {
   "cell_type": "code",
   "execution_count": null,
   "metadata": {},
   "outputs": [],
   "source": [
    "\n",
    "def loss_1(y_true, y_pred):\n",
    "    return K.sum(y_true)\n",
    "\n",
    "custom_loss={\"test_0\" : {\"function\" : loss_1,\n",
    "            \"args\" :{} }}\n",
    "\n",
    "loss_weights = {\"recon_loss\" : 1,\n",
    "                \"kl_loss\" : 0.3,\n",
    "                \"info_loss\" : 42}\n",
    "\n",
    "vae_loss = loss_class.VAELoss(loss_weights = loss_weights, custom_loss=None)\n",
    "vae_params.training_params.loss = vae_loss\n",
    "vae_params.training_params.lr = 1e-5\n",
    "vae_params.training_params.log_prior_sigma = [-2.,-1.,0.,1]"
   ]
  },
  {
   "cell_type": "code",
   "execution_count": null,
   "metadata": {},
   "outputs": [],
   "source": [
    "new_cae=CVAE(vae_params)\n",
    "new_cae.VAE_params.__dict__"
   ]
  },
  {
   "cell_type": "code",
   "execution_count": null,
   "metadata": {
    "scrolled": false
   },
   "outputs": [],
   "source": [
    "new_cae.build_model(vae_params)"
   ]
  },
  {
   "cell_type": "code",
   "execution_count": null,
   "metadata": {},
   "outputs": [],
   "source": [
    "from tensorflow.keras.callbacks import EarlyStopping\n",
    "earl_stop = EarlyStopping(\n",
    "    monitor='val_loss', min_delta=0, patience=100, verbose=0, mode='auto',\n",
    "    baseline=None, restore_best_weights=True\n",
    ")\n"
   ]
  },
  {
   "cell_type": "code",
   "execution_count": null,
   "metadata": {
    "scrolled": true
   },
   "outputs": [],
   "source": [
    "new_cae.train(dataset_emb['train']['x'], dataset['train']['y'], epochs= epochs, verbose=1,\n",
    "              batch_size=batch_size, callbacks=[earl_stop])"
   ]
  },
  {
   "cell_type": "code",
   "execution_count": null,
   "metadata": {},
   "outputs": [],
   "source": [
    "x_encoded = new_cae.encoder.predict(dataset_emb['train']['x'])[0]"
   ]
  },
  {
   "cell_type": "code",
   "execution_count": null,
   "metadata": {},
   "outputs": [],
   "source": [
    "model_eval, importanceMatrix =evaluateLatentCode(x_encoded, factorMatrix, factorDesc, orthogonalize=True, normalize_information=True)\n",
    "#normalize_information normalise le score avec le minimum obtenu avec une projection aléatoire\n",
    "display_metrics(model_eval, z_dim, factorDesc)"
   ]
  },
  {
   "cell_type": "code",
   "execution_count": null,
   "metadata": {},
   "outputs": [],
   "source": [
    "x_hat = new_cae.model.predict(dataset_emb['train']['x'])[0]\n",
    "\n",
    "np.mean(np.abs(x_hat - dataset_emb['train']['x'][0]))"
   ]
  },
  {
   "cell_type": "code",
   "execution_count": null,
   "metadata": {
    "scrolled": false
   },
   "outputs": [],
   "source": [
    "prez_2D(x_encoded)"
   ]
  },
  {
   "cell_type": "code",
   "execution_count": null,
   "metadata": {},
   "outputs": [],
   "source": [
    "#new_cae.load_model()"
   ]
  },
  {
   "cell_type": "code",
   "execution_count": null,
   "metadata": {},
   "outputs": [],
   "source": [
    "cond_emb = new_cae.to_embedding(dataset_emb['train']['x'][1:])"
   ]
  },
  {
   "cell_type": "code",
   "execution_count": null,
   "metadata": {},
   "outputs": [],
   "source": [
    "model_eval, importanceMatrix =evaluateLatentCode(cond_emb, factorMatrix, factorDesc, orthogonalize=True, normalize_information=True)\n",
    "#normalize_information normalise le score avec le minimum obtenu avec une projection aléatoire\n",
    "display_metrics(model_eval, 7, factorDesc)"
   ]
  },
  {
   "cell_type": "markdown",
   "metadata": {},
   "source": [
    "## Essai de la loss de mutual info"
   ]
  },
  {
   "cell_type": "code",
   "execution_count": 27,
   "metadata": {},
   "outputs": [
    {
     "name": "stdout",
     "output_type": "stream",
     "text": [
      "Default values for model architecture are:\n",
      "cond_dims  :=  []\n",
      "with_embedding  :=  False\n",
      "emb_dims  :=  []\n",
      "reparametrize  :=  GaussianSampling\n",
      "input_dims  :=  48\n",
      "output_dims  :=  48\n",
      "latent_dims  :=  4\n",
      "nb_latent_components  :=  2\n",
      "nb_encoder_ensemble  :=  1\n",
      "encoder_dims  :=  [48, 48, 24, 12]\n",
      "encoder_type  :=  NNBlockCond_model\n",
      "nb_decoder_outputs  :=  1\n",
      "nb_decoder_ensemble  :=  1\n",
      "decoder_dims  :=  [12, 24, 48, 48]\n",
      "decoder_type  :=  InceptionBlock_model\n",
      "Default parameters for training are a L2 loss with Adam optimizer with a learning rate of 0.0003\n"
     ]
    }
   ],
   "source": [
    "#root git folder \n",
    "name_model=\"cvae_mutualinfo\"\n",
    "vae_params = VAE_params(name=name_model, out_dir = log_dir_model)\n",
    "\n",
    "vae_params.set_model_params()\n",
    "vae_params.set_training_params()\n",
    "\n",
    "\n",
    "vae_params.model_params.encoder_dims = e_dims\n",
    "vae_params.model_params.decoder_dims = d_dims\n",
    "vae_params.model_params.cond_dims = cond_to_emb\n",
    "vae_params.model_params.with_embedding = True\n",
    "vae_params.model_params.emb_dims = [[36,22,10],[12,4],[],6]\n",
    "vae_params.model_params.nb_encoder_ensemble = 1\n",
    "\n",
    "\n",
    "loss_weights = {\"recon_loss\" : 1, \"kl_loss\" : 0.3, \"info_loss\":66}\n",
    "\n",
    "vae_loss = loss_class.VAELoss(loss_weights = loss_weights, custom_loss=None)\n",
    "vae_params.training_params.loss = vae_loss\n",
    "vae_params.training_params.lr = 1e-5\n",
    "vae_params.training_params.log_prior_sigma = [-2.,-1.,0.,1.]"
   ]
  },
  {
   "cell_type": "code",
   "execution_count": 28,
   "metadata": {},
   "outputs": [
    {
     "data": {
      "text/plain": [
       "{'name': 'cvae_mutualinfo',\n",
       " 'folder': '/home/goubetcle/Documents/VAE//logs/Usecase/cvae_mutualinfo',\n",
       " 'model_params': <params_class.ModelParams at 0x7fdb957fe510>,\n",
       " 'training_params': <params_class.TrainingParams at 0x7fdb9572ec10>}"
      ]
     },
     "execution_count": 28,
     "metadata": {},
     "output_type": "execute_result"
    }
   ],
   "source": [
    "mi_cvae=CVAE(vae_params)\n",
    "mi_cvae.VAE_params.__dict__"
   ]
  },
  {
   "cell_type": "code",
   "execution_count": 29,
   "metadata": {
    "scrolled": false
   },
   "outputs": [
    {
     "name": "stdout",
     "output_type": "stream",
     "text": [
      "Model: \"cae\"\n",
      "__________________________________________________________________________________________________\n",
      "Layer (type)                    Output Shape         Param #     Connected to                     \n",
      "==================================================================================================\n",
      "x_inputs (InputLayer)           [(None, 48)]         0                                            \n",
      "__________________________________________________________________________________________________\n",
      "cond_inputs_0 (InputLayer)      [(None, 48)]         0                                            \n",
      "__________________________________________________________________________________________________\n",
      "cond_inputs_1 (InputLayer)      [(None, 12)]         0                                            \n",
      "__________________________________________________________________________________________________\n",
      "cond_inputs_2 (InputLayer)      [(None, 1)]          0                                            \n",
      "__________________________________________________________________________________________________\n",
      "encoder (Model)                 [(None, 4), (None, 4 10370       x_inputs[0][0]                   \n",
      "                                                                 cond_inputs_0[0][0]              \n",
      "                                                                 cond_inputs_1[0][0]              \n",
      "                                                                 cond_inputs_2[0][0]              \n",
      "__________________________________________________________________________________________________\n",
      "reparametrizing_layer (Lambda)  (None, 4)            0           encoder[1][0]                    \n",
      "                                                                 encoder[1][1]                    \n",
      "__________________________________________________________________________________________________\n",
      "decoder (Model)                 (None, 48)           10738       reparametrizing_layer[0][0]      \n",
      "                                                                 cond_inputs_0[0][0]              \n",
      "                                                                 cond_inputs_1[0][0]              \n",
      "                                                                 cond_inputs_2[0][0]              \n",
      "==================================================================================================\n",
      "Total params: 18,002\n",
      "Trainable params: 18,002\n",
      "Non-trainable params: 0\n",
      "__________________________________________________________________________________________________\n",
      "Model: \"emb\"\n",
      "__________________________________________________________________________________________________\n",
      "Layer (type)                    Output Shape         Param #     Connected to                     \n",
      "==================================================================================================\n",
      "emb_input_cond_0 (InputLayer)   [(None, 48)]         0                                            \n",
      "__________________________________________________________________________________________________\n",
      "emb_input_cond_1 (InputLayer)   [(None, 12)]         0                                            \n",
      "__________________________________________________________________________________________________\n",
      "embcond_0 (Model)               (None, 10)           2808        emb_input_cond_0[0][0]           \n",
      "__________________________________________________________________________________________________\n",
      "embcond_1 (Model)               (None, 4)            208         emb_input_cond_1[0][0]           \n",
      "__________________________________________________________________________________________________\n",
      "emb_emb_concat (Concatenate)    (None, 14)           0           embcond_0[1][0]                  \n",
      "                                                                 embcond_1[1][0]                  \n",
      "__________________________________________________________________________________________________\n",
      "emb_last_reduction (Dense)      (None, 6)            90          emb_emb_concat[0][0]             \n",
      "__________________________________________________________________________________________________\n",
      "activation (Activation)         (None, 6)            0           emb_last_reduction[0][0]         \n",
      "__________________________________________________________________________________________________\n",
      "emb_input_cond_2 (InputLayer)   [(None, 1)]          0                                            \n",
      "__________________________________________________________________________________________________\n",
      "concatenate (Concatenate)       (None, 7)            0           activation[0][0]                 \n",
      "                                                                 emb_input_cond_2[0][0]           \n",
      "==================================================================================================\n",
      "Total params: 3,106\n",
      "Trainable params: 3,106\n",
      "Non-trainable params: 0\n",
      "__________________________________________________________________________________________________\n",
      "Model: \"encoder\"\n",
      "__________________________________________________________________________________________________\n",
      "Layer (type)                    Output Shape         Param #     Connected to                     \n",
      "==================================================================================================\n",
      "enc_cond_inputs_0 (InputLayer)  [(None, 48)]         0                                            \n",
      "__________________________________________________________________________________________________\n",
      "enc_cond_inputs_1 (InputLayer)  [(None, 12)]         0                                            \n",
      "__________________________________________________________________________________________________\n",
      "enc_cond_inputs_2 (InputLayer)  [(None, 1)]          0                                            \n",
      "__________________________________________________________________________________________________\n",
      "enc_inputs (InputLayer)         [(None, 48)]         0                                            \n",
      "__________________________________________________________________________________________________\n",
      "emb (Model)                     (None, 7)            3106        enc_cond_inputs_0[0][0]          \n",
      "                                                                 enc_cond_inputs_1[0][0]          \n",
      "                                                                 enc_cond_inputs_2[0][0]          \n",
      "__________________________________________________________________________________________________\n",
      "encoder_block_0 (Model)         (None, 19)           7104        enc_inputs[0][0]                 \n",
      "                                                                 emb[1][0]                        \n",
      "__________________________________________________________________________________________________\n",
      "latent_dense_0_1 (Dense)        (None, 4)            80          encoder_block_0[1][0]            \n",
      "__________________________________________________________________________________________________\n",
      "latent_dense_0_2 (Dense)        (None, 4)            80          encoder_block_0[1][0]            \n",
      "==================================================================================================\n",
      "Total params: 10,370\n",
      "Trainable params: 10,370\n",
      "Non-trainable params: 0\n",
      "__________________________________________________________________________________________________\n",
      "Model: \"decoder\"\n",
      "__________________________________________________________________________________________________\n",
      "Layer (type)                    Output Shape         Param #     Connected to                     \n",
      "==================================================================================================\n",
      "dec_cond_inputs_0 (InputLayer)  [(None, 48)]         0                                            \n",
      "__________________________________________________________________________________________________\n",
      "dec_cond_inputs_1 (InputLayer)  [(None, 12)]         0                                            \n",
      "__________________________________________________________________________________________________\n",
      "dec_cond_inputs_2 (InputLayer)  [(None, 1)]          0                                            \n",
      "__________________________________________________________________________________________________\n",
      "encoded_inputs (InputLayer)     [(None, 4)]          0                                            \n",
      "__________________________________________________________________________________________________\n",
      "emb (Model)                     (None, 7)            3106        dec_cond_inputs_0[0][0]          \n",
      "                                                                 dec_cond_inputs_1[0][0]          \n",
      "                                                                 dec_cond_inputs_2[0][0]          \n",
      "__________________________________________________________________________________________________\n",
      "decoder_block_0 (Model)         (None, 95)           3024        encoded_inputs[0][0]             \n",
      "                                                                 emb[2][0]                        \n",
      "__________________________________________________________________________________________________\n",
      "dec_output_0_1 (Dense)          (None, 48)           4608        decoder_block_0[1][0]            \n",
      "==================================================================================================\n",
      "Total params: 10,738\n",
      "Trainable params: 10,738\n",
      "Non-trainable params: 0\n",
      "__________________________________________________________________________________________________\n",
      "Losses and associated weight involved in the model: \n",
      "recon_loss  :  1\n",
      "kl_loss  :  0.3\n",
      "info_loss  :  66\n"
     ]
    }
   ],
   "source": [
    "mi_cvae.build_model(vae_params)"
   ]
  },
  {
   "cell_type": "code",
   "execution_count": 30,
   "metadata": {},
   "outputs": [],
   "source": [
    "epochs=200"
   ]
  },
  {
   "cell_type": "code",
   "execution_count": 31,
   "metadata": {},
   "outputs": [],
   "source": [
    "from tensorflow.keras.callbacks import EarlyStopping\n",
    "earl_stop = EarlyStopping(\n",
    "    monitor='val_loss', min_delta=0, patience=100, verbose=0, mode='auto',\n",
    "    baseline=None, restore_best_weights=True\n",
    ")\n"
   ]
  },
  {
   "cell_type": "code",
   "execution_count": 34,
   "metadata": {},
   "outputs": [
    {
     "data": {
      "text/plain": [
       "[array([[0.43533942, 0.30373645, 0.07418278, ..., 0.28494795, 0.50506562,\n",
       "         0.41371178],\n",
       "        [0.39383772, 0.25062763, 0.00988437, ..., 0.20570225, 0.44285482,\n",
       "         0.38314916],\n",
       "        [0.38005949, 0.24044009, 0.01739977, ..., 0.32302597, 0.55149408,\n",
       "         0.48168438],\n",
       "        ...,\n",
       "        [1.33167593, 1.19397713, 0.96742963, ..., 0.92809904, 1.13084779,\n",
       "         1.06304219],\n",
       "        [1.0443372 , 0.88233861, 0.65328597, ..., 0.26532441, 0.48811422,\n",
       "         0.44611149],\n",
       "        [0.45337638, 0.30014576, 0.07885903, ..., 0.21121354, 0.49512859,\n",
       "         0.48135036]]),\n",
       " array([[ 8.8176  ,  8.690875,  8.56415 , ...,  8.88185 ,  8.72985 ,\n",
       "          8.60745 ],\n",
       "        [ 8.48505 ,  8.3463  ,  8.20755 , ...,  8.1908  ,  8.016   ,\n",
       "          7.89135 ],\n",
       "        [ 7.7667  ,  7.65665 ,  7.5466  , ...,  7.192925,  7.1243  ,\n",
       "          6.965   ],\n",
       "        ...,\n",
       "        [ 2.1641  ,  1.98875 ,  1.8134  , ...,  7.8236  ,  7.9247  ,\n",
       "          7.963875],\n",
       "        [ 8.00305 ,  7.874925,  7.7468  , ..., 11.59065 , 11.4654  ,\n",
       "         11.3567  ],\n",
       "        [11.248   , 11.127325, 11.00665 , ...,  9.048775,  9.0003  ,\n",
       "          9.0003  ]]),\n",
       " array([[0., 0., 0., ..., 0., 0., 1.],\n",
       "        [0., 0., 0., ..., 0., 0., 1.],\n",
       "        [0., 0., 0., ..., 0., 0., 1.],\n",
       "        ...,\n",
       "        [0., 0., 0., ..., 0., 0., 1.],\n",
       "        [0., 0., 0., ..., 0., 0., 1.],\n",
       "        [0., 0., 0., ..., 0., 0., 1.]]),\n",
       " array([[1.],\n",
       "        [0.],\n",
       "        [0.],\n",
       "        ...,\n",
       "        [1.],\n",
       "        [0.],\n",
       "        [0.]])]"
      ]
     },
     "execution_count": 34,
     "metadata": {},
     "output_type": "execute_result"
    }
   ],
   "source": [
    "dataset_emb['train']['x']"
   ]
  },
  {
   "cell_type": "code",
   "execution_count": 32,
   "metadata": {
    "scrolled": true
   },
   "outputs": [
    {
     "name": "stdout",
     "output_type": "stream",
     "text": [
      "## START TRAINING ##\n",
      "Train on 1647 samples, validate on 183 samples\n",
      "Epoch 1/200\n",
      "1647/1647 [==============================] - 1s 408us/sample - loss: 1161122.8907 - val_loss: 781732.5293\n",
      "Epoch 2/200\n",
      "1647/1647 [==============================] - 0s 142us/sample - loss: 364532.5349 - val_loss: 512416.0670\n",
      "Epoch 3/200\n",
      "1647/1647 [==============================] - 0s 138us/sample - loss: 239411.1788 - val_loss: 202538.1075\n",
      "Epoch 4/200\n",
      "1647/1647 [==============================] - 0s 136us/sample - loss: 172505.2091 - val_loss: 158811.1933\n",
      "Epoch 5/200\n",
      "1647/1647 [==============================] - 0s 142us/sample - loss: 109480.5286 - val_loss: 101581.5315\n",
      "Epoch 6/200\n",
      "1647/1647 [==============================] - 0s 136us/sample - loss: 71813.8992 - val_loss: 112623.8837\n",
      "Epoch 7/200\n",
      "1647/1647 [==============================] - 0s 138us/sample - loss: 42774.7903 - val_loss: 57225.9536\n",
      "Epoch 8/200\n",
      "1647/1647 [==============================] - 0s 139us/sample - loss: 49679.1779 - val_loss: 66736.8237\n",
      "Epoch 9/200\n",
      "1647/1647 [==============================] - 0s 139us/sample - loss: 36377.9504 - val_loss: 42261.0312\n",
      "Epoch 10/200\n",
      "1647/1647 [==============================] - 0s 137us/sample - loss: 33233.0872 - val_loss: 41659.1737\n",
      "Epoch 11/200\n",
      "1647/1647 [==============================] - 0s 137us/sample - loss: 34642.7090 - val_loss: 33711.9558\n",
      "Epoch 12/200\n",
      "1647/1647 [==============================] - 0s 140us/sample - loss: 23723.9332 - val_loss: 23136.7841\n",
      "Epoch 13/200\n",
      "1647/1647 [==============================] - 0s 137us/sample - loss: 24444.3359 - val_loss: 24801.7757\n",
      "Epoch 14/200\n",
      "1647/1647 [==============================] - 0s 135us/sample - loss: 15724.7684 - val_loss: 17405.5985\n",
      "Epoch 15/200\n",
      "1647/1647 [==============================] - 0s 137us/sample - loss: 13674.3493 - val_loss: 14284.8173\n",
      "Epoch 16/200\n",
      "1647/1647 [==============================] - 0s 135us/sample - loss: 11152.3019 - val_loss: 17196.7805\n",
      "Epoch 17/200\n",
      "1647/1647 [==============================] - 0s 134us/sample - loss: 9896.0335 - val_loss: 10564.8743\n",
      "Epoch 18/200\n",
      "1647/1647 [==============================] - 0s 133us/sample - loss: 7906.9367 - val_loss: 14169.3977\n",
      "Epoch 19/200\n",
      "1647/1647 [==============================] - 0s 136us/sample - loss: 7654.3997 - val_loss: 8691.6084\n",
      "Epoch 20/200\n",
      "1647/1647 [==============================] - 0s 136us/sample - loss: 6076.6681 - val_loss: 6250.6210\n",
      "Epoch 21/200\n",
      "1647/1647 [==============================] - 0s 134us/sample - loss: 6434.3816 - val_loss: 7253.7570\n",
      "Epoch 22/200\n",
      "1647/1647 [==============================] - 0s 133us/sample - loss: 5465.4684 - val_loss: 7448.1850\n",
      "Epoch 23/200\n",
      "1647/1647 [==============================] - 0s 135us/sample - loss: 4798.2515 - val_loss: 7244.5990\n",
      "Epoch 24/200\n",
      "1647/1647 [==============================] - 0s 134us/sample - loss: 4074.3477 - val_loss: 6489.2594\n",
      "Epoch 25/200\n",
      "1647/1647 [==============================] - 0s 138us/sample - loss: 3252.6917 - val_loss: 3920.7299\n",
      "Epoch 26/200\n",
      "1647/1647 [==============================] - 0s 135us/sample - loss: 3287.8524 - val_loss: 3257.5603\n",
      "Epoch 27/200\n",
      "1647/1647 [==============================] - 0s 137us/sample - loss: 2975.2864 - val_loss: 3244.4268\n",
      "Epoch 28/200\n",
      "1647/1647 [==============================] - 0s 136us/sample - loss: 2118.8485 - val_loss: 2161.8066\n",
      "Epoch 29/200\n",
      "1647/1647 [==============================] - 0s 134us/sample - loss: 1796.5106 - val_loss: 2524.5527\n",
      "Epoch 30/200\n",
      "1647/1647 [==============================] - 0s 136us/sample - loss: 1693.3586 - val_loss: 2647.5908\n",
      "Epoch 31/200\n",
      "1647/1647 [==============================] - 0s 135us/sample - loss: 1542.8033 - val_loss: 2163.4902\n",
      "Epoch 32/200\n",
      "1647/1647 [==============================] - 0s 136us/sample - loss: 1430.4594 - val_loss: 1912.7719\n",
      "Epoch 33/200\n",
      "1647/1647 [==============================] - 0s 135us/sample - loss: 1272.3524 - val_loss: 1694.4955\n",
      "Epoch 34/200\n",
      "1647/1647 [==============================] - 0s 137us/sample - loss: 1154.9053 - val_loss: 1645.9259\n",
      "Epoch 35/200\n",
      "1647/1647 [==============================] - 0s 137us/sample - loss: 1130.0826 - val_loss: 1543.9911\n",
      "Epoch 36/200\n",
      "1647/1647 [==============================] - 0s 138us/sample - loss: 996.4705 - val_loss: 1082.7032\n",
      "Epoch 37/200\n",
      "1647/1647 [==============================] - 0s 137us/sample - loss: 785.4552 - val_loss: 1210.9190\n",
      "Epoch 38/200\n",
      "1647/1647 [==============================] - 0s 140us/sample - loss: 565.8658 - val_loss: 829.6514\n",
      "Epoch 39/200\n",
      "1647/1647 [==============================] - 0s 138us/sample - loss: 447.8107 - val_loss: 571.6178\n",
      "Epoch 40/200\n",
      "1647/1647 [==============================] - 0s 137us/sample - loss: 399.9761 - val_loss: 474.1653\n",
      "Epoch 41/200\n",
      "1647/1647 [==============================] - 0s 134us/sample - loss: 365.4446 - val_loss: 509.8851\n",
      "Epoch 42/200\n",
      "1647/1647 [==============================] - 0s 142us/sample - loss: 335.4963 - val_loss: 410.3235\n",
      "Epoch 43/200\n",
      "1647/1647 [==============================] - 0s 136us/sample - loss: 315.5074 - val_loss: 400.4874\n",
      "Epoch 44/200\n",
      "1647/1647 [==============================] - 0s 139us/sample - loss: 295.6764 - val_loss: 354.0424\n",
      "Epoch 45/200\n",
      "1647/1647 [==============================] - 0s 137us/sample - loss: 279.2428 - val_loss: 342.5657\n",
      "Epoch 46/200\n",
      "1647/1647 [==============================] - 0s 139us/sample - loss: 266.0642 - val_loss: 335.5801\n",
      "Epoch 47/200\n",
      "1647/1647 [==============================] - 0s 135us/sample - loss: 255.0838 - val_loss: 314.0193\n",
      "Epoch 48/200\n",
      "1647/1647 [==============================] - 0s 137us/sample - loss: 243.5375 - val_loss: 275.2591\n",
      "Epoch 49/200\n",
      "1647/1647 [==============================] - 0s 135us/sample - loss: 231.6905 - val_loss: 275.9181\n",
      "Epoch 50/200\n",
      "1647/1647 [==============================] - 0s 136us/sample - loss: 216.5996 - val_loss: 268.9569\n",
      "Epoch 51/200\n",
      "1647/1647 [==============================] - 0s 136us/sample - loss: 203.0492 - val_loss: 244.1477\n",
      "Epoch 52/200\n",
      "1647/1647 [==============================] - 0s 136us/sample - loss: 193.3532 - val_loss: 224.7094\n",
      "Epoch 53/200\n",
      "1647/1647 [==============================] - 0s 139us/sample - loss: 178.9539 - val_loss: 210.9900\n",
      "Epoch 54/200\n",
      "1647/1647 [==============================] - 0s 136us/sample - loss: 167.9915 - val_loss: 198.3344\n",
      "Epoch 55/200\n",
      "1647/1647 [==============================] - 0s 147us/sample - loss: 158.8508 - val_loss: 186.3585\n",
      "Epoch 56/200\n",
      "1647/1647 [==============================] - 0s 134us/sample - loss: 151.2417 - val_loss: 174.0833\n",
      "Epoch 57/200\n",
      "1647/1647 [==============================] - 0s 137us/sample - loss: 144.1848 - val_loss: 165.7158\n",
      "Epoch 58/200\n",
      "1647/1647 [==============================] - 0s 133us/sample - loss: 135.8070 - val_loss: 157.8995\n",
      "Epoch 59/200\n",
      "1647/1647 [==============================] - 0s 136us/sample - loss: 129.3188 - val_loss: 150.6582\n",
      "Epoch 60/200\n",
      "1647/1647 [==============================] - 0s 136us/sample - loss: 123.5316 - val_loss: 141.3811\n",
      "Epoch 61/200\n",
      "1647/1647 [==============================] - 0s 136us/sample - loss: 118.9684 - val_loss: 137.7965\n",
      "Epoch 62/200\n",
      "1647/1647 [==============================] - 0s 137us/sample - loss: 113.2724 - val_loss: 132.0427\n",
      "Epoch 63/200\n",
      "1647/1647 [==============================] - 0s 141us/sample - loss: 108.5604 - val_loss: 124.3672\n",
      "Epoch 64/200\n",
      "1647/1647 [==============================] - 0s 135us/sample - loss: 103.5836 - val_loss: 118.2685\n",
      "Epoch 65/200\n",
      "1647/1647 [==============================] - 0s 135us/sample - loss: 99.5118 - val_loss: 112.0686\n",
      "Epoch 66/200\n",
      "1647/1647 [==============================] - 0s 135us/sample - loss: 95.3200 - val_loss: 109.2347\n",
      "Epoch 67/200\n",
      "1647/1647 [==============================] - 0s 135us/sample - loss: 91.5863 - val_loss: 103.2602\n",
      "Epoch 68/200\n",
      "1647/1647 [==============================] - 0s 137us/sample - loss: 87.5985 - val_loss: 99.4490\n",
      "Epoch 69/200\n",
      "1647/1647 [==============================] - 0s 136us/sample - loss: 84.3729 - val_loss: 95.7847\n",
      "Epoch 70/200\n",
      "1647/1647 [==============================] - 0s 138us/sample - loss: 80.8034 - val_loss: 90.2271\n",
      "Epoch 71/200\n",
      "1647/1647 [==============================] - 0s 137us/sample - loss: 77.1439 - val_loss: 88.5525\n",
      "Epoch 72/200\n"
     ]
    },
    {
     "name": "stdout",
     "output_type": "stream",
     "text": [
      "1647/1647 [==============================] - 0s 136us/sample - loss: 74.0903 - val_loss: 83.2180\n",
      "Epoch 73/200\n",
      "1647/1647 [==============================] - 0s 134us/sample - loss: 71.0920 - val_loss: 79.2829\n",
      "Epoch 74/200\n",
      "1647/1647 [==============================] - 0s 134us/sample - loss: 67.7851 - val_loss: 75.2893\n",
      "Epoch 75/200\n",
      "1647/1647 [==============================] - 0s 136us/sample - loss: 64.3692 - val_loss: 70.6054\n",
      "Epoch 76/200\n",
      "1647/1647 [==============================] - 0s 134us/sample - loss: 61.2123 - val_loss: 68.1934\n",
      "Epoch 77/200\n",
      "1647/1647 [==============================] - 0s 135us/sample - loss: 58.5973 - val_loss: 64.3613\n",
      "Epoch 78/200\n",
      "1647/1647 [==============================] - 0s 135us/sample - loss: 55.7894 - val_loss: 62.8424\n",
      "Epoch 79/200\n",
      "1647/1647 [==============================] - 0s 135us/sample - loss: 53.5874 - val_loss: 59.3634\n",
      "Epoch 80/200\n",
      "1647/1647 [==============================] - 0s 136us/sample - loss: 51.2377 - val_loss: 55.9602\n",
      "Epoch 81/200\n",
      "1647/1647 [==============================] - 0s 136us/sample - loss: 49.0212 - val_loss: 53.4837\n",
      "Epoch 82/200\n",
      "1647/1647 [==============================] - 0s 137us/sample - loss: 47.1247 - val_loss: 51.2374\n",
      "Epoch 83/200\n",
      "1647/1647 [==============================] - 0s 136us/sample - loss: 45.1339 - val_loss: 48.8659\n",
      "Epoch 84/200\n",
      "1647/1647 [==============================] - 0s 133us/sample - loss: 43.3391 - val_loss: 47.0345\n",
      "Epoch 85/200\n",
      "1647/1647 [==============================] - 0s 134us/sample - loss: 41.3899 - val_loss: 44.6592\n",
      "Epoch 86/200\n",
      "1647/1647 [==============================] - 0s 137us/sample - loss: 39.6704 - val_loss: 42.6451\n",
      "Epoch 87/200\n",
      "1647/1647 [==============================] - 0s 135us/sample - loss: 38.2205 - val_loss: 41.1520\n",
      "Epoch 88/200\n",
      "1647/1647 [==============================] - 0s 137us/sample - loss: 36.7438 - val_loss: 38.8424\n",
      "Epoch 89/200\n",
      "1647/1647 [==============================] - 0s 137us/sample - loss: 35.2674 - val_loss: 37.3249\n",
      "Epoch 90/200\n",
      "1647/1647 [==============================] - 0s 134us/sample - loss: 33.9286 - val_loss: 35.5542\n",
      "Epoch 91/200\n",
      "1647/1647 [==============================] - 0s 136us/sample - loss: 32.6423 - val_loss: 34.2230\n",
      "Epoch 92/200\n",
      "1647/1647 [==============================] - 0s 136us/sample - loss: 31.4076 - val_loss: 32.7691\n",
      "Epoch 93/200\n",
      "1647/1647 [==============================] - 0s 147us/sample - loss: 30.2627 - val_loss: 31.5631\n",
      "Epoch 94/200\n",
      "1647/1647 [==============================] - 0s 134us/sample - loss: 28.9959 - val_loss: 29.9244\n",
      "Epoch 95/200\n",
      "1647/1647 [==============================] - 0s 141us/sample - loss: 27.8022 - val_loss: 28.1487\n",
      "Epoch 96/200\n",
      "1647/1647 [==============================] - 0s 134us/sample - loss: 26.6325 - val_loss: 27.1434\n",
      "Epoch 97/200\n",
      "1647/1647 [==============================] - 0s 137us/sample - loss: 25.6004 - val_loss: 25.9037\n",
      "Epoch 98/200\n",
      "1647/1647 [==============================] - 0s 135us/sample - loss: 24.6563 - val_loss: 24.7136\n",
      "Epoch 99/200\n",
      "1647/1647 [==============================] - 0s 138us/sample - loss: 23.7218 - val_loss: 23.9810\n",
      "Epoch 100/200\n",
      "1647/1647 [==============================] - 0s 134us/sample - loss: 22.8871 - val_loss: 22.6214\n",
      "Epoch 101/200\n",
      "1647/1647 [==============================] - 0s 135us/sample - loss: 22.0507 - val_loss: 21.5906\n",
      "Epoch 102/200\n",
      "1647/1647 [==============================] - 0s 138us/sample - loss: 21.3312 - val_loss: 20.8770\n",
      "Epoch 103/200\n",
      "1647/1647 [==============================] - 0s 137us/sample - loss: 20.6439 - val_loss: 19.9484\n",
      "Epoch 104/200\n",
      "1647/1647 [==============================] - 0s 137us/sample - loss: 20.0153 - val_loss: 19.6895\n",
      "Epoch 105/200\n",
      "1647/1647 [==============================] - 0s 136us/sample - loss: 19.4240 - val_loss: 18.6701\n",
      "Epoch 106/200\n",
      "1647/1647 [==============================] - 0s 137us/sample - loss: 18.8559 - val_loss: 17.9516\n",
      "Epoch 107/200\n",
      "1647/1647 [==============================] - 0s 136us/sample - loss: 18.3322 - val_loss: 17.4160\n",
      "Epoch 108/200\n",
      "1647/1647 [==============================] - 0s 139us/sample - loss: 17.8267 - val_loss: 16.8553\n",
      "Epoch 109/200\n",
      "1647/1647 [==============================] - 0s 136us/sample - loss: 17.4569 - val_loss: 16.4525\n",
      "Epoch 110/200\n",
      "1647/1647 [==============================] - 0s 141us/sample - loss: 17.0255 - val_loss: 16.0576\n",
      "Epoch 111/200\n",
      "1647/1647 [==============================] - 0s 136us/sample - loss: 16.6162 - val_loss: 15.5320\n",
      "Epoch 112/200\n",
      "1647/1647 [==============================] - 0s 135us/sample - loss: 16.2021 - val_loss: 15.1910\n",
      "Epoch 113/200\n",
      "1647/1647 [==============================] - 0s 136us/sample - loss: 15.8713 - val_loss: 14.7595\n",
      "Epoch 114/200\n",
      "1647/1647 [==============================] - 0s 138us/sample - loss: 15.6281 - val_loss: 14.3425\n",
      "Epoch 115/200\n",
      "1647/1647 [==============================] - 0s 137us/sample - loss: 15.2853 - val_loss: 14.0310\n",
      "Epoch 116/200\n",
      "1647/1647 [==============================] - 0s 135us/sample - loss: 15.0642 - val_loss: 13.7857\n",
      "Epoch 117/200\n",
      "1647/1647 [==============================] - 0s 133us/sample - loss: 14.7223 - val_loss: 13.6784\n",
      "Epoch 118/200\n",
      "1647/1647 [==============================] - 0s 136us/sample - loss: 14.4639 - val_loss: 13.3039\n",
      "Epoch 119/200\n",
      "1647/1647 [==============================] - 0s 135us/sample - loss: 14.2702 - val_loss: 13.1780\n",
      "Epoch 120/200\n",
      "1647/1647 [==============================] - 0s 135us/sample - loss: 14.0408 - val_loss: 12.6496\n",
      "Epoch 121/200\n",
      "1647/1647 [==============================] - 0s 140us/sample - loss: 13.8380 - val_loss: 12.6566\n",
      "Epoch 122/200\n",
      "1647/1647 [==============================] - 0s 136us/sample - loss: 13.6554 - val_loss: 12.2553\n",
      "Epoch 123/200\n",
      "1647/1647 [==============================] - 0s 135us/sample - loss: 13.4483 - val_loss: 11.9623\n",
      "Epoch 124/200\n",
      "1647/1647 [==============================] - 0s 137us/sample - loss: 13.2675 - val_loss: 12.0176\n",
      "Epoch 125/200\n",
      "1647/1647 [==============================] - 0s 134us/sample - loss: 13.1288 - val_loss: 12.0064\n",
      "Epoch 126/200\n",
      "1647/1647 [==============================] - 0s 136us/sample - loss: 12.9441 - val_loss: 11.5334\n",
      "Epoch 127/200\n",
      "1647/1647 [==============================] - 0s 137us/sample - loss: 12.7780 - val_loss: 11.4786\n",
      "Epoch 128/200\n",
      "1647/1647 [==============================] - 0s 137us/sample - loss: 12.6158 - val_loss: 11.3616\n",
      "Epoch 129/200\n",
      "1647/1647 [==============================] - 0s 138us/sample - loss: 12.4629 - val_loss: 11.1701\n",
      "Epoch 130/200\n",
      "1647/1647 [==============================] - 0s 135us/sample - loss: 12.3127 - val_loss: 10.8875\n",
      "Epoch 131/200\n",
      "1647/1647 [==============================] - 0s 135us/sample - loss: 12.1550 - val_loss: 10.9074\n",
      "Epoch 132/200\n",
      "1647/1647 [==============================] - 0s 135us/sample - loss: 11.9879 - val_loss: 10.9049\n",
      "Epoch 133/200\n",
      "1647/1647 [==============================] - 0s 137us/sample - loss: 11.8906 - val_loss: 10.5038\n",
      "Epoch 134/200\n",
      "1647/1647 [==============================] - 0s 139us/sample - loss: 11.7388 - val_loss: 10.4823\n",
      "Epoch 135/200\n",
      "1647/1647 [==============================] - 0s 137us/sample - loss: 11.6586 - val_loss: 10.3410\n",
      "Epoch 136/200\n",
      "1647/1647 [==============================] - 0s 141us/sample - loss: 11.4862 - val_loss: 10.0440\n",
      "Epoch 137/200\n",
      "1647/1647 [==============================] - 0s 133us/sample - loss: 11.3473 - val_loss: 10.1415\n",
      "Epoch 138/200\n",
      "1647/1647 [==============================] - 0s 134us/sample - loss: 11.2379 - val_loss: 10.0383\n",
      "Epoch 139/200\n",
      "1647/1647 [==============================] - 0s 136us/sample - loss: 11.1158 - val_loss: 9.8851\n",
      "Epoch 140/200\n",
      "1647/1647 [==============================] - 0s 136us/sample - loss: 10.9714 - val_loss: 9.7492\n",
      "Epoch 141/200\n",
      "1647/1647 [==============================] - 0s 137us/sample - loss: 10.8580 - val_loss: 9.6936\n",
      "Epoch 142/200\n",
      "1647/1647 [==============================] - 0s 138us/sample - loss: 10.7373 - val_loss: 9.4170\n",
      "Epoch 143/200\n",
      "1647/1647 [==============================] - 0s 137us/sample - loss: 10.6010 - val_loss: 9.4452\n",
      "Epoch 144/200\n",
      "1647/1647 [==============================] - 0s 136us/sample - loss: 10.4898 - val_loss: 9.2827\n",
      "Epoch 145/200\n",
      "1647/1647 [==============================] - 0s 137us/sample - loss: 10.3748 - val_loss: 9.1097\n",
      "Epoch 146/200\n"
     ]
    },
    {
     "name": "stdout",
     "output_type": "stream",
     "text": [
      "1647/1647 [==============================] - 0s 140us/sample - loss: 10.2764 - val_loss: 9.2226\n",
      "Epoch 147/200\n",
      "1647/1647 [==============================] - 0s 135us/sample - loss: 10.1479 - val_loss: 8.8960\n",
      "Epoch 148/200\n",
      "1647/1647 [==============================] - 0s 137us/sample - loss: 10.0183 - val_loss: 8.8586\n",
      "Epoch 149/200\n",
      "1647/1647 [==============================] - 0s 144us/sample - loss: 9.8824 - val_loss: 8.7076\n",
      "Epoch 150/200\n",
      "1647/1647 [==============================] - 0s 140us/sample - loss: 9.8021 - val_loss: 8.7490\n",
      "Epoch 151/200\n",
      "1647/1647 [==============================] - 0s 138us/sample - loss: 9.6547 - val_loss: 8.5998\n",
      "Epoch 152/200\n",
      "1647/1647 [==============================] - 0s 137us/sample - loss: 9.5290 - val_loss: 8.4275\n",
      "Epoch 153/200\n",
      "1647/1647 [==============================] - 0s 137us/sample - loss: 9.4347 - val_loss: 8.3301\n",
      "Epoch 154/200\n",
      "1647/1647 [==============================] - 0s 136us/sample - loss: 9.3313 - val_loss: 8.3092\n",
      "Epoch 155/200\n",
      "1647/1647 [==============================] - 0s 137us/sample - loss: 9.1925 - val_loss: 7.9980\n",
      "Epoch 156/200\n",
      "1647/1647 [==============================] - 0s 137us/sample - loss: 9.0892 - val_loss: 7.9686\n",
      "Epoch 157/200\n",
      "1647/1647 [==============================] - 0s 134us/sample - loss: 9.0208 - val_loss: 7.9949\n",
      "Epoch 158/200\n",
      "1647/1647 [==============================] - 0s 137us/sample - loss: 8.8781 - val_loss: 7.8108\n",
      "Epoch 159/200\n",
      "1647/1647 [==============================] - 0s 137us/sample - loss: 8.7649 - val_loss: 7.7871\n",
      "Epoch 160/200\n",
      "1647/1647 [==============================] - 0s 140us/sample - loss: 8.6524 - val_loss: 7.6022\n",
      "Epoch 161/200\n",
      "1647/1647 [==============================] - 0s 136us/sample - loss: 8.5196 - val_loss: 7.6201\n",
      "Epoch 162/200\n",
      "1647/1647 [==============================] - 0s 136us/sample - loss: 8.4244 - val_loss: 7.5520\n",
      "Epoch 163/200\n",
      "1647/1647 [==============================] - 0s 142us/sample - loss: 8.2989 - val_loss: 7.3202\n",
      "Epoch 164/200\n",
      "1647/1647 [==============================] - 0s 137us/sample - loss: 8.2064 - val_loss: 7.3381\n",
      "Epoch 165/200\n",
      "1647/1647 [==============================] - 0s 135us/sample - loss: 8.0868 - val_loss: 7.0582\n",
      "Epoch 166/200\n",
      "1647/1647 [==============================] - 0s 133us/sample - loss: 7.9694 - val_loss: 7.0794\n",
      "Epoch 167/200\n",
      "1647/1647 [==============================] - 0s 137us/sample - loss: 7.8534 - val_loss: 6.9040\n",
      "Epoch 168/200\n",
      "1647/1647 [==============================] - 0s 137us/sample - loss: 7.7764 - val_loss: 6.9944\n",
      "Epoch 169/200\n",
      "1647/1647 [==============================] - 0s 137us/sample - loss: 7.6428 - val_loss: 6.9238\n",
      "Epoch 170/200\n",
      "1647/1647 [==============================] - 0s 136us/sample - loss: 7.5092 - val_loss: 6.6646\n",
      "Epoch 171/200\n",
      "1647/1647 [==============================] - 0s 139us/sample - loss: 7.3910 - val_loss: 6.5350\n",
      "Epoch 172/200\n",
      "1647/1647 [==============================] - 0s 134us/sample - loss: 7.3508 - val_loss: 6.6044\n",
      "Epoch 173/200\n",
      "1647/1647 [==============================] - 0s 136us/sample - loss: 7.2100 - val_loss: 6.3742\n",
      "Epoch 174/200\n",
      "1647/1647 [==============================] - 0s 138us/sample - loss: 7.0640 - val_loss: 6.3341\n",
      "Epoch 175/200\n",
      "1647/1647 [==============================] - 0s 137us/sample - loss: 6.9664 - val_loss: 6.2202\n",
      "Epoch 176/200\n",
      "1647/1647 [==============================] - 0s 136us/sample - loss: 6.9074 - val_loss: 6.1370\n",
      "Epoch 177/200\n",
      "1647/1647 [==============================] - 0s 138us/sample - loss: 6.7543 - val_loss: 6.0637\n",
      "Epoch 178/200\n",
      "1647/1647 [==============================] - 0s 137us/sample - loss: 6.6971 - val_loss: 5.9292\n",
      "Epoch 179/200\n",
      "1647/1647 [==============================] - 0s 135us/sample - loss: 6.5733 - val_loss: 5.8571\n",
      "Epoch 180/200\n",
      "1647/1647 [==============================] - 0s 136us/sample - loss: 6.4690 - val_loss: 5.9201\n",
      "Epoch 181/200\n",
      "1647/1647 [==============================] - 0s 140us/sample - loss: 6.3198 - val_loss: 5.6633\n",
      "Epoch 182/200\n",
      "1647/1647 [==============================] - 0s 134us/sample - loss: 6.2455 - val_loss: 5.6772\n",
      "Epoch 183/200\n",
      "1647/1647 [==============================] - 0s 136us/sample - loss: 6.1565 - val_loss: 5.5996\n",
      "Epoch 184/200\n",
      "1647/1647 [==============================] - 0s 136us/sample - loss: 6.0539 - val_loss: 5.3176\n",
      "Epoch 185/200\n",
      "1647/1647 [==============================] - 0s 135us/sample - loss: 5.9642 - val_loss: 5.3700\n",
      "Epoch 186/200\n",
      "1647/1647 [==============================] - 0s 137us/sample - loss: 5.8801 - val_loss: 5.2659\n",
      "Epoch 187/200\n",
      "1647/1647 [==============================] - 0s 137us/sample - loss: 5.7257 - val_loss: 5.2172\n",
      "Epoch 188/200\n",
      "1647/1647 [==============================] - 0s 142us/sample - loss: 5.7093 - val_loss: 5.1175\n",
      "Epoch 189/200\n",
      "1647/1647 [==============================] - 0s 137us/sample - loss: 5.6176 - val_loss: 5.0266\n",
      "Epoch 190/200\n",
      "1647/1647 [==============================] - 0s 135us/sample - loss: 5.5182 - val_loss: 4.9761\n",
      "Epoch 191/200\n",
      "1647/1647 [==============================] - 0s 136us/sample - loss: 5.3919 - val_loss: 4.8544\n",
      "Epoch 192/200\n",
      "1647/1647 [==============================] - 0s 140us/sample - loss: 5.3128 - val_loss: 4.8263\n",
      "Epoch 193/200\n",
      "1647/1647 [==============================] - 0s 138us/sample - loss: 5.2368 - val_loss: 4.7061\n",
      "Epoch 194/200\n",
      "1647/1647 [==============================] - 0s 135us/sample - loss: 5.1754 - val_loss: 4.7259\n",
      "Epoch 195/200\n",
      "1647/1647 [==============================] - 0s 136us/sample - loss: 5.0596 - val_loss: 4.6468\n",
      "Epoch 196/200\n",
      "1647/1647 [==============================] - 0s 139us/sample - loss: 5.0365 - val_loss: 4.5278\n",
      "Epoch 197/200\n",
      "1647/1647 [==============================] - 0s 137us/sample - loss: 4.9430 - val_loss: 4.4570\n",
      "Epoch 198/200\n",
      "1647/1647 [==============================] - 0s 136us/sample - loss: 4.8463 - val_loss: 4.3849\n",
      "Epoch 199/200\n",
      "1647/1647 [==============================] - 0s 133us/sample - loss: 4.7937 - val_loss: 4.4027\n",
      "Epoch 200/200\n",
      "1647/1647 [==============================] - 0s 134us/sample - loss: 4.7484 - val_loss: 4.3074\n",
      "## END TRAINING ##\n"
     ]
    },
    {
     "data": {
      "image/png": "[encoded data removed]",
      "text/plain": [
       "<Figure size 432x288 with 1 Axes>"
      ]
     },
     "metadata": {
      "needs_background": "light"
     },
     "output_type": "display_data"
    },
    {
     "name": "stdout",
     "output_type": "stream",
     "text": [
      "WARNING:tensorflow:Found duplicated `Variable`s in Model's `weights`. This is usually caused by `Variable`s being shared by Layers in the Model. These `Variable`s will be treated as separate `Variable`s when the Model is restored. To avoid this, please save with `save_format=\"tf\"`.\n",
      "## MODEL SAVED ##\n"
     ]
    }
   ],
   "source": [
    "mi_cvae.train(dataset_emb['train']['x'], dataset['train']['y'], epochs= epochs, verbose=1,\n",
    "              batch_size=batch_size, callbacks=[earl_stop])"
   ]
  },
  {
   "cell_type": "code",
   "execution_count": 36,
   "metadata": {
    "scrolled": false
   },
   "outputs": [
    {
     "name": "stdout",
     "output_type": "stream",
     "text": [
      "Model: \"cae\"\n",
      "__________________________________________________________________________________________________\n",
      "Layer (type)                    Output Shape         Param #     Connected to                     \n",
      "==================================================================================================\n",
      "x_inputs (InputLayer)           [(None, 48)]         0                                            \n",
      "__________________________________________________________________________________________________\n",
      "cond_inputs_0 (InputLayer)      [(None, 48)]         0                                            \n",
      "__________________________________________________________________________________________________\n",
      "cond_inputs_1 (InputLayer)      [(None, 12)]         0                                            \n",
      "__________________________________________________________________________________________________\n",
      "cond_inputs_2 (InputLayer)      [(None, 1)]          0                                            \n",
      "__________________________________________________________________________________________________\n",
      "encoder (Model)                 [(None, 4), (None, 4 10370       x_inputs[0][0]                   \n",
      "                                                                 cond_inputs_0[0][0]              \n",
      "                                                                 cond_inputs_1[0][0]              \n",
      "                                                                 cond_inputs_2[0][0]              \n",
      "__________________________________________________________________________________________________\n",
      "reparametrizing_layer (Lambda)  (None, 4)            0           encoder[1][0]                    \n",
      "                                                                 encoder[1][1]                    \n",
      "__________________________________________________________________________________________________\n",
      "decoder (Model)                 (None, 48)           10738       reparametrizing_layer[0][0]      \n",
      "                                                                 cond_inputs_0[0][0]              \n",
      "                                                                 cond_inputs_1[0][0]              \n",
      "                                                                 cond_inputs_2[0][0]              \n",
      "==================================================================================================\n",
      "Total params: 18,002\n",
      "Trainable params: 18,002\n",
      "Non-trainable params: 0\n",
      "__________________________________________________________________________________________________\n",
      "Model: \"emb\"\n",
      "__________________________________________________________________________________________________\n",
      "Layer (type)                    Output Shape         Param #     Connected to                     \n",
      "==================================================================================================\n",
      "emb_input_cond_0 (InputLayer)   [(None, 48)]         0                                            \n",
      "__________________________________________________________________________________________________\n",
      "emb_input_cond_1 (InputLayer)   [(None, 12)]         0                                            \n",
      "__________________________________________________________________________________________________\n",
      "embcond_0 (Model)               (None, 10)           2808        emb_input_cond_0[0][0]           \n",
      "__________________________________________________________________________________________________\n",
      "embcond_1 (Model)               (None, 4)            208         emb_input_cond_1[0][0]           \n",
      "__________________________________________________________________________________________________\n",
      "emb_emb_concat (Concatenate)    (None, 14)           0           embcond_0[1][0]                  \n",
      "                                                                 embcond_1[1][0]                  \n",
      "__________________________________________________________________________________________________\n",
      "emb_last_reduction (Dense)      (None, 6)            90          emb_emb_concat[0][0]             \n",
      "__________________________________________________________________________________________________\n",
      "activation_2 (Activation)       (None, 6)            0           emb_last_reduction[0][0]         \n",
      "__________________________________________________________________________________________________\n",
      "emb_input_cond_2 (InputLayer)   [(None, 1)]          0                                            \n",
      "__________________________________________________________________________________________________\n",
      "concatenate_14 (Concatenate)    (None, 7)            0           activation_2[0][0]               \n",
      "                                                                 emb_input_cond_2[0][0]           \n",
      "==================================================================================================\n",
      "Total params: 3,106\n",
      "Trainable params: 3,106\n",
      "Non-trainable params: 0\n",
      "__________________________________________________________________________________________________\n",
      "Model: \"encoder\"\n",
      "__________________________________________________________________________________________________\n",
      "Layer (type)                    Output Shape         Param #     Connected to                     \n",
      "==================================================================================================\n",
      "enc_cond_inputs_0 (InputLayer)  [(None, 48)]         0                                            \n",
      "__________________________________________________________________________________________________\n",
      "enc_cond_inputs_1 (InputLayer)  [(None, 12)]         0                                            \n",
      "__________________________________________________________________________________________________\n",
      "enc_cond_inputs_2 (InputLayer)  [(None, 1)]          0                                            \n",
      "__________________________________________________________________________________________________\n",
      "enc_inputs (InputLayer)         [(None, 48)]         0                                            \n",
      "__________________________________________________________________________________________________\n",
      "emb (Model)                     (None, 7)            3106        enc_cond_inputs_0[0][0]          \n",
      "                                                                 enc_cond_inputs_1[0][0]          \n",
      "                                                                 enc_cond_inputs_2[0][0]          \n",
      "__________________________________________________________________________________________________\n",
      "encoder_block_0 (Model)         (None, 19)           7104        enc_inputs[0][0]                 \n",
      "                                                                 emb[1][0]                        \n",
      "__________________________________________________________________________________________________\n",
      "latent_dense_0_1 (Dense)        (None, 4)            80          encoder_block_0[1][0]            \n",
      "__________________________________________________________________________________________________\n",
      "latent_dense_0_2 (Dense)        (None, 4)            80          encoder_block_0[1][0]            \n",
      "==================================================================================================\n",
      "Total params: 10,370\n",
      "Trainable params: 10,370\n",
      "Non-trainable params: 0\n",
      "__________________________________________________________________________________________________\n",
      "Model: \"decoder\"\n",
      "__________________________________________________________________________________________________\n",
      "Layer (type)                    Output Shape         Param #     Connected to                     \n",
      "==================================================================================================\n",
      "dec_cond_inputs_0 (InputLayer)  [(None, 48)]         0                                            \n",
      "__________________________________________________________________________________________________\n",
      "dec_cond_inputs_1 (InputLayer)  [(None, 12)]         0                                            \n",
      "__________________________________________________________________________________________________\n",
      "dec_cond_inputs_2 (InputLayer)  [(None, 1)]          0                                            \n",
      "__________________________________________________________________________________________________\n",
      "encoded_inputs (InputLayer)     [(None, 4)]          0                                            \n",
      "__________________________________________________________________________________________________\n",
      "emb (Model)                     (None, 7)            3106        dec_cond_inputs_0[0][0]          \n",
      "                                                                 dec_cond_inputs_1[0][0]          \n",
      "                                                                 dec_cond_inputs_2[0][0]          \n",
      "__________________________________________________________________________________________________\n",
      "decoder_block_0 (Model)         (None, 95)           3024        encoded_inputs[0][0]             \n",
      "                                                                 emb[2][0]                        \n",
      "__________________________________________________________________________________________________\n",
      "dec_output_0_1 (Dense)          (None, 48)           4608        decoder_block_0[1][0]            \n",
      "==================================================================================================\n",
      "Total params: 10,738\n",
      "Trainable params: 10,738\n",
      "Non-trainable params: 0\n",
      "__________________________________________________________________________________________________\n",
      "Losses and associated weight involved in the model: \n",
      "recon_loss  :  1\n",
      "mutualinfo_loss  :  1\n"
     ]
    }
   ],
   "source": [
    "#mi_cvae.save()\n",
    "loss_weights = {\"recon_loss\" : 1, \"mutualinfo_loss\":1}\n",
    "\n",
    "vae_loss = loss_class.VAELoss(loss_weights = loss_weights, custom_loss=None)\n",
    "vae_params.training_params.loss = vae_loss\n",
    "vae_params.training_params.lr = 1e-5\n",
    "vae_params.training_params.log_prior_sigma = [-2.,-1.,0.,1.]\n",
    "mi_cvae.build_model(vae_params)\n",
    "\n",
    "mi_cvae.load_model(retrieve_model_architecture=False)"
   ]
  },
  {
   "cell_type": "code",
   "execution_count": 39,
   "metadata": {
    "scrolled": false
   },
   "outputs": [
    {
     "name": "stdout",
     "output_type": "stream",
     "text": [
      "## START TRAINING ##\n",
      "Train on 1647 samples, validate on 183 samples\n",
      "Epoch 1/600\n"
     ]
    },
    {
     "ename": "InvalidArgumentError",
     "evalue": " Self-adjoint eigen decomposition was not successful. The input might not be valid.\n\t [[node loss_2/decoder_loss/SelfAdjointEigV2_3 (defined at /home/goubetcle/Documents/Git/VAE/models.py:36) ]] [Op:__inference_keras_scratch_graph_182173]\n\nFunction call stack:\nkeras_scratch_graph\n",
     "output_type": "error",
     "traceback": [
      "\u001b[0;31m---------------------------------------------------------------------------\u001b[0m",
      "\u001b[0;31mInvalidArgumentError\u001b[0m                      Traceback (most recent call last)",
      "\u001b[0;32m<ipython-input-39-82d46e3ab9ce>\u001b[0m in \u001b[0;36m<module>\u001b[0;34m\u001b[0m\n\u001b[1;32m      1\u001b[0m \u001b[0mmi_cvae\u001b[0m\u001b[0;34m.\u001b[0m\u001b[0mload_model\u001b[0m\u001b[0;34m(\u001b[0m\u001b[0mretrieve_model_architecture\u001b[0m\u001b[0;34m=\u001b[0m\u001b[0;32mFalse\u001b[0m\u001b[0;34m)\u001b[0m\u001b[0;34m\u001b[0m\u001b[0;34m\u001b[0m\u001b[0m\n\u001b[1;32m      2\u001b[0m mi_cvae.train(dataset_emb['train']['x'], dataset['train']['y'], epochs= 600, verbose=3,\n\u001b[0;32m----> 3\u001b[0;31m               batch_size=batch_size, callbacks=[earl_stop])\n\u001b[0m",
      "\u001b[0;32m~/Documents/Git/VAE/models.py\u001b[0m in \u001b[0;36mtrain\u001b[0;34m(self, *args, **kwargs)\u001b[0m\n\u001b[1;32m     34\u001b[0m             \u001b[0mkwargs\u001b[0m\u001b[0;34m[\u001b[0m\u001b[0;34m\"validation_split\"\u001b[0m\u001b[0;34m]\u001b[0m \u001b[0;34m=\u001b[0m \u001b[0;36m0.1\u001b[0m\u001b[0;34m\u001b[0m\u001b[0;34m\u001b[0m\u001b[0m\n\u001b[1;32m     35\u001b[0m \u001b[0;34m\u001b[0m\u001b[0m\n\u001b[0;32m---> 36\u001b[0;31m         \u001b[0mtraining_history\u001b[0m \u001b[0;34m=\u001b[0m \u001b[0mself\u001b[0m\u001b[0;34m.\u001b[0m\u001b[0mmodel\u001b[0m\u001b[0;34m.\u001b[0m\u001b[0mfit\u001b[0m\u001b[0;34m(\u001b[0m\u001b[0;34m*\u001b[0m\u001b[0margs\u001b[0m\u001b[0;34m,\u001b[0m \u001b[0;34m**\u001b[0m\u001b[0mkwargs\u001b[0m\u001b[0;34m)\u001b[0m\u001b[0;34m\u001b[0m\u001b[0;34m\u001b[0m\u001b[0m\n\u001b[0m\u001b[1;32m     37\u001b[0m \u001b[0;34m\u001b[0m\u001b[0m\n\u001b[1;32m     38\u001b[0m         \u001b[0mprint\u001b[0m\u001b[0;34m(\u001b[0m\u001b[0;34m\"## END TRAINING ##\"\u001b[0m\u001b[0;34m)\u001b[0m\u001b[0;34m\u001b[0m\u001b[0;34m\u001b[0m\u001b[0m\n",
      "\u001b[0;32m~/Documents/VAE/venv-vae/lib/python3.7/site-packages/tensorflow_core/python/keras/engine/training.py\u001b[0m in \u001b[0;36mfit\u001b[0;34m(self, x, y, batch_size, epochs, verbose, callbacks, validation_split, validation_data, shuffle, class_weight, sample_weight, initial_epoch, steps_per_epoch, validation_steps, validation_freq, max_queue_size, workers, use_multiprocessing, **kwargs)\u001b[0m\n\u001b[1;32m    817\u001b[0m         \u001b[0mmax_queue_size\u001b[0m\u001b[0;34m=\u001b[0m\u001b[0mmax_queue_size\u001b[0m\u001b[0;34m,\u001b[0m\u001b[0;34m\u001b[0m\u001b[0;34m\u001b[0m\u001b[0m\n\u001b[1;32m    818\u001b[0m         \u001b[0mworkers\u001b[0m\u001b[0;34m=\u001b[0m\u001b[0mworkers\u001b[0m\u001b[0;34m,\u001b[0m\u001b[0;34m\u001b[0m\u001b[0;34m\u001b[0m\u001b[0m\n\u001b[0;32m--> 819\u001b[0;31m         use_multiprocessing=use_multiprocessing)\n\u001b[0m\u001b[1;32m    820\u001b[0m \u001b[0;34m\u001b[0m\u001b[0m\n\u001b[1;32m    821\u001b[0m   def evaluate(self,\n",
      "\u001b[0;32m~/Documents/VAE/venv-vae/lib/python3.7/site-packages/tensorflow_core/python/keras/engine/training_arrays.py\u001b[0m in \u001b[0;36mfit\u001b[0;34m(self, model, x, y, batch_size, epochs, verbose, callbacks, validation_split, validation_data, shuffle, class_weight, sample_weight, initial_epoch, steps_per_epoch, validation_steps, validation_freq, **kwargs)\u001b[0m\n\u001b[1;32m    678\u001b[0m         \u001b[0mvalidation_steps\u001b[0m\u001b[0;34m=\u001b[0m\u001b[0mvalidation_steps\u001b[0m\u001b[0;34m,\u001b[0m\u001b[0;34m\u001b[0m\u001b[0;34m\u001b[0m\u001b[0m\n\u001b[1;32m    679\u001b[0m         \u001b[0mvalidation_freq\u001b[0m\u001b[0;34m=\u001b[0m\u001b[0mvalidation_freq\u001b[0m\u001b[0;34m,\u001b[0m\u001b[0;34m\u001b[0m\u001b[0;34m\u001b[0m\u001b[0m\n\u001b[0;32m--> 680\u001b[0;31m         steps_name='steps_per_epoch')\n\u001b[0m\u001b[1;32m    681\u001b[0m \u001b[0;34m\u001b[0m\u001b[0m\n\u001b[1;32m    682\u001b[0m   def evaluate(self,\n",
      "\u001b[0;32m~/Documents/VAE/venv-vae/lib/python3.7/site-packages/tensorflow_core/python/keras/engine/training_arrays.py\u001b[0m in \u001b[0;36mmodel_iteration\u001b[0;34m(model, inputs, targets, sample_weights, batch_size, epochs, verbose, callbacks, val_inputs, val_targets, val_sample_weights, shuffle, initial_epoch, steps_per_epoch, validation_steps, validation_freq, mode, validation_in_fit, prepared_feed_values_from_dataset, steps_name, **kwargs)\u001b[0m\n\u001b[1;32m    396\u001b[0m \u001b[0;34m\u001b[0m\u001b[0m\n\u001b[1;32m    397\u001b[0m         \u001b[0;31m# Get outputs.\u001b[0m\u001b[0;34m\u001b[0m\u001b[0;34m\u001b[0m\u001b[0;34m\u001b[0m\u001b[0m\n\u001b[0;32m--> 398\u001b[0;31m         \u001b[0mbatch_outs\u001b[0m \u001b[0;34m=\u001b[0m \u001b[0mf\u001b[0m\u001b[0;34m(\u001b[0m\u001b[0mins_batch\u001b[0m\u001b[0;34m)\u001b[0m\u001b[0;34m\u001b[0m\u001b[0;34m\u001b[0m\u001b[0m\n\u001b[0m\u001b[1;32m    399\u001b[0m         \u001b[0;32mif\u001b[0m \u001b[0;32mnot\u001b[0m \u001b[0misinstance\u001b[0m\u001b[0;34m(\u001b[0m\u001b[0mbatch_outs\u001b[0m\u001b[0;34m,\u001b[0m \u001b[0mlist\u001b[0m\u001b[0;34m)\u001b[0m\u001b[0;34m:\u001b[0m\u001b[0;34m\u001b[0m\u001b[0;34m\u001b[0m\u001b[0m\n\u001b[1;32m    400\u001b[0m           \u001b[0mbatch_outs\u001b[0m \u001b[0;34m=\u001b[0m \u001b[0;34m[\u001b[0m\u001b[0mbatch_outs\u001b[0m\u001b[0;34m]\u001b[0m\u001b[0;34m\u001b[0m\u001b[0;34m\u001b[0m\u001b[0m\n",
      "\u001b[0;32m~/Documents/VAE/venv-vae/lib/python3.7/site-packages/tensorflow_core/python/keras/backend.py\u001b[0m in \u001b[0;36m__call__\u001b[0;34m(self, inputs)\u001b[0m\n\u001b[1;32m   3725\u001b[0m         \u001b[0mvalue\u001b[0m \u001b[0;34m=\u001b[0m \u001b[0mmath_ops\u001b[0m\u001b[0;34m.\u001b[0m\u001b[0mcast\u001b[0m\u001b[0;34m(\u001b[0m\u001b[0mvalue\u001b[0m\u001b[0;34m,\u001b[0m \u001b[0mtensor\u001b[0m\u001b[0;34m.\u001b[0m\u001b[0mdtype\u001b[0m\u001b[0;34m)\u001b[0m\u001b[0;34m\u001b[0m\u001b[0;34m\u001b[0m\u001b[0m\n\u001b[1;32m   3726\u001b[0m       \u001b[0mconverted_inputs\u001b[0m\u001b[0;34m.\u001b[0m\u001b[0mappend\u001b[0m\u001b[0;34m(\u001b[0m\u001b[0mvalue\u001b[0m\u001b[0;34m)\u001b[0m\u001b[0;34m\u001b[0m\u001b[0;34m\u001b[0m\u001b[0m\n\u001b[0;32m-> 3727\u001b[0;31m     \u001b[0moutputs\u001b[0m \u001b[0;34m=\u001b[0m \u001b[0mself\u001b[0m\u001b[0;34m.\u001b[0m\u001b[0m_graph_fn\u001b[0m\u001b[0;34m(\u001b[0m\u001b[0;34m*\u001b[0m\u001b[0mconverted_inputs\u001b[0m\u001b[0;34m)\u001b[0m\u001b[0;34m\u001b[0m\u001b[0;34m\u001b[0m\u001b[0m\n\u001b[0m\u001b[1;32m   3728\u001b[0m \u001b[0;34m\u001b[0m\u001b[0m\n\u001b[1;32m   3729\u001b[0m     \u001b[0;31m# EagerTensor.numpy() will often make a copy to ensure memory safety.\u001b[0m\u001b[0;34m\u001b[0m\u001b[0;34m\u001b[0m\u001b[0;34m\u001b[0m\u001b[0m\n",
      "\u001b[0;32m~/Documents/VAE/venv-vae/lib/python3.7/site-packages/tensorflow_core/python/eager/function.py\u001b[0m in \u001b[0;36m__call__\u001b[0;34m(self, *args, **kwargs)\u001b[0m\n\u001b[1;32m   1549\u001b[0m       \u001b[0mTypeError\u001b[0m\u001b[0;34m:\u001b[0m \u001b[0mFor\u001b[0m \u001b[0minvalid\u001b[0m \u001b[0mpositional\u001b[0m\u001b[0;34m/\u001b[0m\u001b[0mkeyword\u001b[0m \u001b[0margument\u001b[0m \u001b[0mcombinations\u001b[0m\u001b[0;34m.\u001b[0m\u001b[0;34m\u001b[0m\u001b[0;34m\u001b[0m\u001b[0m\n\u001b[1;32m   1550\u001b[0m     \"\"\"\n\u001b[0;32m-> 1551\u001b[0;31m     \u001b[0;32mreturn\u001b[0m \u001b[0mself\u001b[0m\u001b[0;34m.\u001b[0m\u001b[0m_call_impl\u001b[0m\u001b[0;34m(\u001b[0m\u001b[0margs\u001b[0m\u001b[0;34m,\u001b[0m \u001b[0mkwargs\u001b[0m\u001b[0;34m)\u001b[0m\u001b[0;34m\u001b[0m\u001b[0;34m\u001b[0m\u001b[0m\n\u001b[0m\u001b[1;32m   1552\u001b[0m \u001b[0;34m\u001b[0m\u001b[0m\n\u001b[1;32m   1553\u001b[0m   \u001b[0;32mdef\u001b[0m \u001b[0m_call_impl\u001b[0m\u001b[0;34m(\u001b[0m\u001b[0mself\u001b[0m\u001b[0;34m,\u001b[0m \u001b[0margs\u001b[0m\u001b[0;34m,\u001b[0m \u001b[0mkwargs\u001b[0m\u001b[0;34m,\u001b[0m \u001b[0mcancellation_manager\u001b[0m\u001b[0;34m=\u001b[0m\u001b[0;32mNone\u001b[0m\u001b[0;34m)\u001b[0m\u001b[0;34m:\u001b[0m\u001b[0;34m\u001b[0m\u001b[0;34m\u001b[0m\u001b[0m\n",
      "\u001b[0;32m~/Documents/VAE/venv-vae/lib/python3.7/site-packages/tensorflow_core/python/eager/function.py\u001b[0m in \u001b[0;36m_call_impl\u001b[0;34m(self, args, kwargs, cancellation_manager)\u001b[0m\n\u001b[1;32m   1589\u001b[0m       raise TypeError(\"Keyword arguments {} unknown. Expected {}.\".format(\n\u001b[1;32m   1590\u001b[0m           list(kwargs.keys()), list(self._arg_keywords)))\n\u001b[0;32m-> 1591\u001b[0;31m     \u001b[0;32mreturn\u001b[0m \u001b[0mself\u001b[0m\u001b[0;34m.\u001b[0m\u001b[0m_call_flat\u001b[0m\u001b[0;34m(\u001b[0m\u001b[0margs\u001b[0m\u001b[0;34m,\u001b[0m \u001b[0mself\u001b[0m\u001b[0;34m.\u001b[0m\u001b[0mcaptured_inputs\u001b[0m\u001b[0;34m,\u001b[0m \u001b[0mcancellation_manager\u001b[0m\u001b[0;34m)\u001b[0m\u001b[0;34m\u001b[0m\u001b[0;34m\u001b[0m\u001b[0m\n\u001b[0m\u001b[1;32m   1592\u001b[0m \u001b[0;34m\u001b[0m\u001b[0m\n\u001b[1;32m   1593\u001b[0m   \u001b[0;32mdef\u001b[0m \u001b[0m_filtered_call\u001b[0m\u001b[0;34m(\u001b[0m\u001b[0mself\u001b[0m\u001b[0;34m,\u001b[0m \u001b[0margs\u001b[0m\u001b[0;34m,\u001b[0m \u001b[0mkwargs\u001b[0m\u001b[0;34m)\u001b[0m\u001b[0;34m:\u001b[0m\u001b[0;34m\u001b[0m\u001b[0;34m\u001b[0m\u001b[0m\n",
      "\u001b[0;32m~/Documents/VAE/venv-vae/lib/python3.7/site-packages/tensorflow_core/python/eager/function.py\u001b[0m in \u001b[0;36m_call_flat\u001b[0;34m(self, args, captured_inputs, cancellation_manager)\u001b[0m\n\u001b[1;32m   1690\u001b[0m       \u001b[0;31m# No tape is watching; skip to running the function.\u001b[0m\u001b[0;34m\u001b[0m\u001b[0;34m\u001b[0m\u001b[0;34m\u001b[0m\u001b[0m\n\u001b[1;32m   1691\u001b[0m       return self._build_call_outputs(self._inference_function.call(\n\u001b[0;32m-> 1692\u001b[0;31m           ctx, args, cancellation_manager=cancellation_manager))\n\u001b[0m\u001b[1;32m   1693\u001b[0m     forward_backward = self._select_forward_and_backward_functions(\n\u001b[1;32m   1694\u001b[0m         \u001b[0margs\u001b[0m\u001b[0;34m,\u001b[0m\u001b[0;34m\u001b[0m\u001b[0;34m\u001b[0m\u001b[0m\n",
      "\u001b[0;32m~/Documents/VAE/venv-vae/lib/python3.7/site-packages/tensorflow_core/python/eager/function.py\u001b[0m in \u001b[0;36mcall\u001b[0;34m(self, ctx, args, cancellation_manager)\u001b[0m\n\u001b[1;32m    543\u001b[0m               \u001b[0minputs\u001b[0m\u001b[0;34m=\u001b[0m\u001b[0margs\u001b[0m\u001b[0;34m,\u001b[0m\u001b[0;34m\u001b[0m\u001b[0;34m\u001b[0m\u001b[0m\n\u001b[1;32m    544\u001b[0m               \u001b[0mattrs\u001b[0m\u001b[0;34m=\u001b[0m\u001b[0;34m(\u001b[0m\u001b[0;34m\"executor_type\"\u001b[0m\u001b[0;34m,\u001b[0m \u001b[0mexecutor_type\u001b[0m\u001b[0;34m,\u001b[0m \u001b[0;34m\"config_proto\"\u001b[0m\u001b[0;34m,\u001b[0m \u001b[0mconfig\u001b[0m\u001b[0;34m)\u001b[0m\u001b[0;34m,\u001b[0m\u001b[0;34m\u001b[0m\u001b[0;34m\u001b[0m\u001b[0m\n\u001b[0;32m--> 545\u001b[0;31m               ctx=ctx)\n\u001b[0m\u001b[1;32m    546\u001b[0m         \u001b[0;32melse\u001b[0m\u001b[0;34m:\u001b[0m\u001b[0;34m\u001b[0m\u001b[0;34m\u001b[0m\u001b[0m\n\u001b[1;32m    547\u001b[0m           outputs = execute.execute_with_cancellation(\n",
      "\u001b[0;32m~/Documents/VAE/venv-vae/lib/python3.7/site-packages/tensorflow_core/python/eager/execute.py\u001b[0m in \u001b[0;36mquick_execute\u001b[0;34m(op_name, num_outputs, inputs, attrs, ctx, name)\u001b[0m\n\u001b[1;32m     65\u001b[0m     \u001b[0;32melse\u001b[0m\u001b[0;34m:\u001b[0m\u001b[0;34m\u001b[0m\u001b[0;34m\u001b[0m\u001b[0m\n\u001b[1;32m     66\u001b[0m       \u001b[0mmessage\u001b[0m \u001b[0;34m=\u001b[0m \u001b[0me\u001b[0m\u001b[0;34m.\u001b[0m\u001b[0mmessage\u001b[0m\u001b[0;34m\u001b[0m\u001b[0;34m\u001b[0m\u001b[0m\n\u001b[0;32m---> 67\u001b[0;31m     \u001b[0msix\u001b[0m\u001b[0;34m.\u001b[0m\u001b[0mraise_from\u001b[0m\u001b[0;34m(\u001b[0m\u001b[0mcore\u001b[0m\u001b[0;34m.\u001b[0m\u001b[0m_status_to_exception\u001b[0m\u001b[0;34m(\u001b[0m\u001b[0me\u001b[0m\u001b[0;34m.\u001b[0m\u001b[0mcode\u001b[0m\u001b[0;34m,\u001b[0m \u001b[0mmessage\u001b[0m\u001b[0;34m)\u001b[0m\u001b[0;34m,\u001b[0m \u001b[0;32mNone\u001b[0m\u001b[0;34m)\u001b[0m\u001b[0;34m\u001b[0m\u001b[0;34m\u001b[0m\u001b[0m\n\u001b[0m\u001b[1;32m     68\u001b[0m   \u001b[0;32mexcept\u001b[0m \u001b[0mTypeError\u001b[0m \u001b[0;32mas\u001b[0m \u001b[0me\u001b[0m\u001b[0;34m:\u001b[0m\u001b[0;34m\u001b[0m\u001b[0;34m\u001b[0m\u001b[0m\n\u001b[1;32m     69\u001b[0m     keras_symbolic_tensors = [\n",
      "\u001b[0;32m~/Documents/VAE/venv-vae/lib/python3.7/site-packages/six.py\u001b[0m in \u001b[0;36mraise_from\u001b[0;34m(value, from_value)\u001b[0m\n",
      "\u001b[0;31mInvalidArgumentError\u001b[0m:  Self-adjoint eigen decomposition was not successful. The input might not be valid.\n\t [[node loss_2/decoder_loss/SelfAdjointEigV2_3 (defined at /home/goubetcle/Documents/Git/VAE/models.py:36) ]] [Op:__inference_keras_scratch_graph_182173]\n\nFunction call stack:\nkeras_scratch_graph\n"
     ]
    }
   ],
   "source": [
    "mi_cvae.load_model(retrieve_model_architecture=False)\n",
    "mi_cvae.train(dataset_emb['train']['x'], dataset['train']['y'], epochs= 600, verbose=3,\n",
    "              batch_size=batch_size, callbacks=[earl_stop])"
   ]
  },
  {
   "cell_type": "code",
   "execution_count": 40,
   "metadata": {},
   "outputs": [],
   "source": [
    "x_encoded = mi_cvae.encoder.predict(dataset_emb['train']['x'])[0]"
   ]
  },
  {
   "cell_type": "code",
   "execution_count": null,
   "metadata": {},
   "outputs": [],
   "source": [
    "model_eval, importanceMatrix =evaluateLatentCode(x_encoded, factorMatrix, factorDesc, orthogonalize=True, normalize_information=True)\n",
    "#normalize_information normalise le score avec le minimum obtenu avec une projection aléatoire\n",
    "display_metrics(model_eval, z_dim, factorDesc)"
   ]
  },
  {
   "cell_type": "code",
   "execution_count": null,
   "metadata": {},
   "outputs": [],
   "source": [
    "x_hat = mi_cvae.model.predict(dataset_emb['train']['x'])[0]\n",
    "\n",
    "np.mean(np.abs(x_hat - dataset_emb['train']['x'][0]))"
   ]
  },
  {
   "cell_type": "code",
   "execution_count": null,
   "metadata": {
    "scrolled": false
   },
   "outputs": [],
   "source": [
    "prez_2D(x_encoded)"
   ]
  },
  {
   "cell_type": "code",
   "execution_count": null,
   "metadata": {},
   "outputs": [],
   "source": [
    "#new_cae.load_model()"
   ]
  },
  {
   "cell_type": "code",
   "execution_count": null,
   "metadata": {},
   "outputs": [],
   "source": [
    "cond_emb = mi_cvae.to_embedding(dataset_emb['train']['x'][1:])"
   ]
  },
  {
   "cell_type": "code",
   "execution_count": null,
   "metadata": {},
   "outputs": [],
   "source": [
    "model_eval, importanceMatrix =evaluateLatentCode(cond_emb, factorMatrix, factorDesc, orthogonalize=True, normalize_information=True)\n",
    "#normalize_information normalise le score avec le minimum obtenu avec une projection aléatoire\n",
    "display_metrics(model_eval, 7, factorDesc)"
   ]
  },
  {
   "cell_type": "code",
   "execution_count": 62,
   "metadata": {},
   "outputs": [],
   "source": [
    "import tensorflow as tf, numpy as np\n",
    "from tensorflow.keras import backend as K\n",
    "from scipy import sparse\n",
    "\n",
    "def build_gram_matrix(s1, h):\n",
    "    K.cast(s1, dtype='float64')\n",
    "    K.cast(h, dtype='float64')\n",
    "\n",
    "    dim = K.shape(s1)[1]\n",
    "    s1_size = K.shape(s1)[0]\n",
    "\n",
    "    tiled_s1 = K.tile(K.reshape(s1, K.stack([s1_size, 1, dim])), K.stack([1, s1_size, 1]))\n",
    "    tiled_s2 = K.tile(K.reshape(s1, K.stack([1, s1_size, dim])), K.stack([s1_size, 1, 1]))\n",
    "    Dist_M = K.exp(-0.5 * K.square(K.cast((tiled_s1 - tiled_s2), dtype='float64') / h))\n",
    "\n",
    "    gram_matrix = K.prod(Dist_M, axis=-1)\n",
    "\n",
    "    diag = tf.linalg.diag_part(gram_matrix)\n",
    "    diag_1 = K.tile(K.reshape(diag, K.stack([s1_size, 1])), K.stack([1, s1_size]))\n",
    "    diag_2 = K.tile(K.reshape(diag, K.stack([1, s1_size])), K.stack([s1_size, 1]))\n",
    "    normed_gram_matrix = gram_matrix / K.sqrt(diag_1 * diag_2) / (K.cast(s1_size**dim, dtype='float64'))\n",
    "\n",
    "    return gram_matrix\n",
    "\n",
    "\n",
    "def trace_normalize(A):\n",
    "    trace_A = tf.linalg.trace(A)\n",
    "    return A / trace_A\n",
    "\n",
    "def numpy_Renyi_entropy(input_A, alpha):\n",
    "    \"\"\"Compute the Renyi entropy analogy of a matrix based on its eigenvalues\n",
    "\n",
    "    params:\n",
    "    A -- array-like, matrix\n",
    "    alpha -- float, Renyi entropy parameter\n",
    "    \"\"\"\n",
    "    A = input_A\n",
    "    A[A*A.shape[0] < 1e-3] = 0\n",
    "    A_sparse = sparse.csc_matrix(A)\n",
    "    A_eigval,_ =  np.abs(sparse.linalg.eigsh(A_sparse)) + 1e-6\n",
    "    return np.float32(np.log(np.sum((A_eigval)**alpha)) / np.log(2) / (1 - alpha))\n",
    "\n",
    "def Renyi_entropy(A, alpha):\n",
    "    A_eigval,v = tf.linalg.eigh(A)\n",
    "    Rent = K.log(K.sum(K.pow(A_eigval+1e-6, alpha))) / K.cast((1. - alpha) * K.log(2.), dtype='float64')\n",
    "    return K.cast(Rent, dtype='float32')\n",
    "\n",
    "\n",
    "def build_mutualinfo_loss(y_true, y_pred, cond_true, latent_mu, h=1, alpha=1.01, kappa=1.):\n",
    "    sigma = h * K.pow(K.cast(K.shape(y_true)[0], dtype='float64'), -1. / (4. + 1.))\n",
    "\n",
    "    if len(cond_true)>=2:\n",
    "        cond_in = K.concatenate(cond_true, axis=-1)\n",
    "    else:\n",
    "        cond_in = cond_true[0]\n",
    "        \n",
    "    tf.print(K.shape(cond_in))\n",
    "\n",
    "    gram_x = build_gram_matrix(y_true, sigma)\n",
    "    gram_c = build_gram_matrix(cond_in, sigma)\n",
    "    gram_z = build_gram_matrix(latent_mu, sigma)\n",
    "\n",
    "    cond_MI = Renyi_entropy(trace_normalize(gram_z), alpha) + \\\n",
    "              Renyi_entropy(trace_normalize(gram_c), alpha) -\\\n",
    "              Renyi_entropy(trace_normalize(gram_c * gram_z), alpha)\n",
    "\n",
    "    input_MI = Renyi_entropy(trace_normalize(gram_z), alpha) + \\\n",
    "               Renyi_entropy(trace_normalize(gram_x), alpha) -\\\n",
    "               Renyi_entropy(trace_normalize(gram_x * gram_z), alpha)\n",
    "\n",
    "    return K.cast(1. / input_MI + kappa * cond_MI, dtype='float32')"
   ]
  },
  {
   "cell_type": "code",
   "execution_count": 63,
   "metadata": {},
   "outputs": [
    {
     "name": "stdout",
     "output_type": "stream",
     "text": [
      "[1830 48]\n"
     ]
    },
    {
     "ename": "KeyboardInterrupt",
     "evalue": "",
     "output_type": "error",
     "traceback": [
      "\u001b[0;31m---------------------------------------------------------------------------\u001b[0m",
      "\u001b[0;31mKeyboardInterrupt\u001b[0m                         Traceback (most recent call last)",
      "\u001b[0;32m<ipython-input-63-38c78ae14989>\u001b[0m in \u001b[0;36m<module>\u001b[0;34m\u001b[0m\n\u001b[1;32m      1\u001b[0m build_mutualinfo_loss(y_true=dataset_emb['train']['y'], y_pred=dataset_emb['train']['y'],\n\u001b[0;32m----> 2\u001b[0;31m                       cond_true=[dataset_emb['train']['x'][1]], latent_mu=x_encoded, h=1, alpha=1.01, kappa=1.)\n\u001b[0m",
      "\u001b[0;32m<ipython-input-62-b2e89680136b>\u001b[0m in \u001b[0;36mbuild_mutualinfo_loss\u001b[0;34m(y_true, y_pred, cond_true, latent_mu, h, alpha, kappa)\u001b[0m\n\u001b[1;32m     62\u001b[0m \u001b[0;34m\u001b[0m\u001b[0m\n\u001b[1;32m     63\u001b[0m     \u001b[0mcond_MI\u001b[0m \u001b[0;34m=\u001b[0m \u001b[0mRenyi_entropy\u001b[0m\u001b[0;34m(\u001b[0m\u001b[0mtrace_normalize\u001b[0m\u001b[0;34m(\u001b[0m\u001b[0mgram_z\u001b[0m\u001b[0;34m)\u001b[0m\u001b[0;34m,\u001b[0m \u001b[0malpha\u001b[0m\u001b[0;34m)\u001b[0m \u001b[0;34m+\u001b[0m\u001b[0;31m \u001b[0m\u001b[0;31m\\\u001b[0m\u001b[0;34m\u001b[0m\u001b[0;34m\u001b[0m\u001b[0m\n\u001b[0;32m---> 64\u001b[0;31m               \u001b[0mRenyi_entropy\u001b[0m\u001b[0;34m(\u001b[0m\u001b[0mtrace_normalize\u001b[0m\u001b[0;34m(\u001b[0m\u001b[0mgram_c\u001b[0m\u001b[0;34m)\u001b[0m\u001b[0;34m,\u001b[0m \u001b[0malpha\u001b[0m\u001b[0;34m)\u001b[0m \u001b[0;34m-\u001b[0m\u001b[0;31m\\\u001b[0m\u001b[0;34m\u001b[0m\u001b[0;34m\u001b[0m\u001b[0m\n\u001b[0m\u001b[1;32m     65\u001b[0m               \u001b[0mRenyi_entropy\u001b[0m\u001b[0;34m(\u001b[0m\u001b[0mtrace_normalize\u001b[0m\u001b[0;34m(\u001b[0m\u001b[0mgram_c\u001b[0m \u001b[0;34m*\u001b[0m \u001b[0mgram_z\u001b[0m\u001b[0;34m)\u001b[0m\u001b[0;34m,\u001b[0m \u001b[0malpha\u001b[0m\u001b[0;34m)\u001b[0m\u001b[0;34m\u001b[0m\u001b[0;34m\u001b[0m\u001b[0m\n\u001b[1;32m     66\u001b[0m \u001b[0;34m\u001b[0m\u001b[0m\n",
      "\u001b[0;32m<ipython-input-62-b2e89680136b>\u001b[0m in \u001b[0;36mRenyi_entropy\u001b[0;34m(A, alpha)\u001b[0m\n\u001b[1;32m     42\u001b[0m \u001b[0;34m\u001b[0m\u001b[0m\n\u001b[1;32m     43\u001b[0m \u001b[0;32mdef\u001b[0m \u001b[0mRenyi_entropy\u001b[0m\u001b[0;34m(\u001b[0m\u001b[0mA\u001b[0m\u001b[0;34m,\u001b[0m \u001b[0malpha\u001b[0m\u001b[0;34m)\u001b[0m\u001b[0;34m:\u001b[0m\u001b[0;34m\u001b[0m\u001b[0;34m\u001b[0m\u001b[0m\n\u001b[0;32m---> 44\u001b[0;31m     \u001b[0mA_eigval\u001b[0m\u001b[0;34m,\u001b[0m\u001b[0mv\u001b[0m \u001b[0;34m=\u001b[0m \u001b[0mtf\u001b[0m\u001b[0;34m.\u001b[0m\u001b[0mlinalg\u001b[0m\u001b[0;34m.\u001b[0m\u001b[0meigh\u001b[0m\u001b[0;34m(\u001b[0m\u001b[0mA\u001b[0m\u001b[0;34m)\u001b[0m\u001b[0;34m\u001b[0m\u001b[0;34m\u001b[0m\u001b[0m\n\u001b[0m\u001b[1;32m     45\u001b[0m     \u001b[0mRent\u001b[0m \u001b[0;34m=\u001b[0m \u001b[0mK\u001b[0m\u001b[0;34m.\u001b[0m\u001b[0mlog\u001b[0m\u001b[0;34m(\u001b[0m\u001b[0mK\u001b[0m\u001b[0;34m.\u001b[0m\u001b[0msum\u001b[0m\u001b[0;34m(\u001b[0m\u001b[0mK\u001b[0m\u001b[0;34m.\u001b[0m\u001b[0mpow\u001b[0m\u001b[0;34m(\u001b[0m\u001b[0mA_eigval\u001b[0m\u001b[0;34m+\u001b[0m\u001b[0;36m1e-6\u001b[0m\u001b[0;34m,\u001b[0m \u001b[0malpha\u001b[0m\u001b[0;34m)\u001b[0m\u001b[0;34m)\u001b[0m\u001b[0;34m)\u001b[0m \u001b[0;34m/\u001b[0m \u001b[0mK\u001b[0m\u001b[0;34m.\u001b[0m\u001b[0mcast\u001b[0m\u001b[0;34m(\u001b[0m\u001b[0;34m(\u001b[0m\u001b[0;36m1.\u001b[0m \u001b[0;34m-\u001b[0m \u001b[0malpha\u001b[0m\u001b[0;34m)\u001b[0m \u001b[0;34m*\u001b[0m \u001b[0mK\u001b[0m\u001b[0;34m.\u001b[0m\u001b[0mlog\u001b[0m\u001b[0;34m(\u001b[0m\u001b[0;36m2.\u001b[0m\u001b[0;34m)\u001b[0m\u001b[0;34m,\u001b[0m \u001b[0mdtype\u001b[0m\u001b[0;34m=\u001b[0m\u001b[0;34m'float64'\u001b[0m\u001b[0;34m)\u001b[0m\u001b[0;34m\u001b[0m\u001b[0;34m\u001b[0m\u001b[0m\n\u001b[1;32m     46\u001b[0m     \u001b[0;32mreturn\u001b[0m \u001b[0mK\u001b[0m\u001b[0;34m.\u001b[0m\u001b[0mcast\u001b[0m\u001b[0;34m(\u001b[0m\u001b[0mRent\u001b[0m\u001b[0;34m,\u001b[0m \u001b[0mdtype\u001b[0m\u001b[0;34m=\u001b[0m\u001b[0;34m'float32'\u001b[0m\u001b[0;34m)\u001b[0m\u001b[0;34m\u001b[0m\u001b[0;34m\u001b[0m\u001b[0m\n",
      "\u001b[0;32m~/Documents/VAE/venv-vae/lib/python3.7/site-packages/tensorflow_core/python/ops/linalg_ops.py\u001b[0m in \u001b[0;36mself_adjoint_eig\u001b[0;34m(tensor, name)\u001b[0m\n\u001b[1;32m    382\u001b[0m       \u001b[0mmatrices\u001b[0m \u001b[0mcontain\u001b[0m \u001b[0meigenvectors\u001b[0m \u001b[0mof\u001b[0m \u001b[0mthe\u001b[0m \u001b[0mcorresponding\u001b[0m \u001b[0mmatrices\u001b[0m \u001b[0;32min\u001b[0m\u001b[0;31m \u001b[0m\u001b[0;31m`\u001b[0m\u001b[0mtensor\u001b[0m\u001b[0;31m`\u001b[0m\u001b[0;34m\u001b[0m\u001b[0;34m\u001b[0m\u001b[0m\n\u001b[1;32m    383\u001b[0m   \"\"\"\n\u001b[0;32m--> 384\u001b[0;31m   \u001b[0me\u001b[0m\u001b[0;34m,\u001b[0m \u001b[0mv\u001b[0m \u001b[0;34m=\u001b[0m \u001b[0mgen_linalg_ops\u001b[0m\u001b[0;34m.\u001b[0m\u001b[0mself_adjoint_eig_v2\u001b[0m\u001b[0;34m(\u001b[0m\u001b[0mtensor\u001b[0m\u001b[0;34m,\u001b[0m \u001b[0mcompute_v\u001b[0m\u001b[0;34m=\u001b[0m\u001b[0;32mTrue\u001b[0m\u001b[0;34m,\u001b[0m \u001b[0mname\u001b[0m\u001b[0;34m=\u001b[0m\u001b[0mname\u001b[0m\u001b[0;34m)\u001b[0m\u001b[0;34m\u001b[0m\u001b[0;34m\u001b[0m\u001b[0m\n\u001b[0m\u001b[1;32m    385\u001b[0m   \u001b[0;32mreturn\u001b[0m \u001b[0me\u001b[0m\u001b[0;34m,\u001b[0m \u001b[0mv\u001b[0m\u001b[0;34m\u001b[0m\u001b[0;34m\u001b[0m\u001b[0m\n\u001b[1;32m    386\u001b[0m \u001b[0;34m\u001b[0m\u001b[0m\n",
      "\u001b[0;32m~/Documents/VAE/venv-vae/lib/python3.7/site-packages/tensorflow_core/python/eager/core.py\u001b[0m in \u001b[0;36m__init__\u001b[0;34m(self, message, code)\u001b[0m\n\u001b[1;32m     37\u001b[0m   \u001b[0;34m\"\"\"Exception class to handle not ok Status.\"\"\"\u001b[0m\u001b[0;34m\u001b[0m\u001b[0;34m\u001b[0m\u001b[0m\n\u001b[1;32m     38\u001b[0m \u001b[0;34m\u001b[0m\u001b[0m\n\u001b[0;32m---> 39\u001b[0;31m   \u001b[0;32mdef\u001b[0m \u001b[0m__init__\u001b[0m\u001b[0;34m(\u001b[0m\u001b[0mself\u001b[0m\u001b[0;34m,\u001b[0m \u001b[0mmessage\u001b[0m\u001b[0;34m,\u001b[0m \u001b[0mcode\u001b[0m\u001b[0;34m)\u001b[0m\u001b[0;34m:\u001b[0m\u001b[0;34m\u001b[0m\u001b[0;34m\u001b[0m\u001b[0m\n\u001b[0m\u001b[1;32m     40\u001b[0m     \u001b[0msuper\u001b[0m\u001b[0;34m(\u001b[0m\u001b[0m_NotOkStatusException\u001b[0m\u001b[0;34m,\u001b[0m \u001b[0mself\u001b[0m\u001b[0;34m)\u001b[0m\u001b[0;34m.\u001b[0m\u001b[0m__init__\u001b[0m\u001b[0;34m(\u001b[0m\u001b[0;34m)\u001b[0m\u001b[0;34m\u001b[0m\u001b[0;34m\u001b[0m\u001b[0m\n\u001b[1;32m     41\u001b[0m     \u001b[0mself\u001b[0m\u001b[0;34m.\u001b[0m\u001b[0mmessage\u001b[0m \u001b[0;34m=\u001b[0m \u001b[0mmessage\u001b[0m\u001b[0;34m\u001b[0m\u001b[0;34m\u001b[0m\u001b[0m\n",
      "\u001b[0;31mKeyboardInterrupt\u001b[0m: "
     ]
    }
   ],
   "source": [
    "build_mutualinfo_loss(y_true=dataset_emb['train']['y'], y_pred=dataset_emb['train']['y'],\n",
    "                      cond_true=[dataset_emb['train']['x'][1]], latent_mu=x_encoded, h=1, alpha=1.01, kappa=1.)"
   ]
  },
  {
   "cell_type": "code",
   "execution_count": 59,
   "metadata": {},
   "outputs": [],
   "source": [
    "sigma = K.pow(K.cast(K.shape(dataset_emb['train']['x'][1])[0], dtype='float64'), -1. / (4. + 1.))\n",
    "\n",
    "gram_c = build_gram_matrix(dataset_emb['train']['x'][1], sigma)"
   ]
  },
  {
   "cell_type": "code",
   "execution_count": 60,
   "metadata": {},
   "outputs": [],
   "source": [
    "e,v = tf.linalg.eigh(trace_normalize(gram_c))"
   ]
  },
  {
   "cell_type": "code",
   "execution_count": 61,
   "metadata": {},
   "outputs": [
    {
     "data": {
      "text/plain": [
       "<tf.Tensor: shape=(), dtype=float64, numpy=10.83762819461686>"
      ]
     },
     "execution_count": 61,
     "metadata": {},
     "output_type": "execute_result"
    }
   ],
   "source": [
    "alpha=1.01\n",
    "K.log(K.sum(K.pow(e, alpha))) / K.cast((1. - alpha) * K.log(2.), dtype='float64')"
   ]
  },
  {
   "cell_type": "code",
   "execution_count": 53,
   "metadata": {},
   "outputs": [
    {
     "data": {
      "text/plain": [
       "<tf.Tensor: shape=(1830,), dtype=float64, numpy=\n",
       "array([0.00019926, 0.00023344, 0.0002451 , ..., 0.00095586, 0.00097978,\n",
       "       0.00107831])>"
      ]
     },
     "execution_count": 53,
     "metadata": {},
     "output_type": "execute_result"
    }
   ],
   "source": [
    "e"
   ]
  },
  {
   "cell_type": "code",
   "execution_count": null,
   "metadata": {},
   "outputs": [],
   "source": []
  }
 ],
 "metadata": {
  "kernelspec": {
   "display_name": "vae_venv",
   "language": "python",
   "name": "vae_venv"
  },
  "language_info": {
   "codemirror_mode": {
    "name": "ipython",
    "version": 3
   },
   "file_extension": ".py",
   "mimetype": "text/x-python",
   "name": "python",
   "nbconvert_exporter": "python",
   "pygments_lexer": "ipython3",
   "version": "3.7.5"
  }
 },
 "nbformat": 4,
 "nbformat_minor": 2
}
